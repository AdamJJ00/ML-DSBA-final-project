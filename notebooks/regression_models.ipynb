{
 "cells": [
  {
   "cell_type": "markdown",
   "source": [
    "available models tackled during course\n",
    "- sklearn.neighbors.KNeighborsRegressor\n",
    "- sklearn.svm.SVR\n",
    "- sklearn.tree.DecisionTreeRegressor\n",
    "- sklearn.ensemble.RandomForestRegressor\n",
    "- xgb\n",
    "- nn"
   ],
   "metadata": {
    "collapsed": false,
    "pycharm": {
     "name": "#%% md\n"
    }
   }
  },
  {
   "cell_type": "code",
   "execution_count": null,
   "outputs": [],
   "source": [],
   "metadata": {
    "collapsed": false,
    "pycharm": {
     "name": "#%%\n"
    }
   }
  }
 ],
 "metadata": {
  "kernelspec": {
   "display_name": "Python 3",
   "language": "python",
   "name": "python3"
  },
  "language_info": {
   "codemirror_mode": {
    "name": "ipython",
    "version": 2
   },
   "file_extension": ".py",
   "mimetype": "text/x-python",
   "name": "python",
   "nbconvert_exporter": "python",
   "pygments_lexer": "ipython2",
   "version": "2.7.6"
  }
 },
 "nbformat": 4,
 "nbformat_minor": 0
}