{
 "cells": [
  {
   "cell_type": "code",
   "execution_count": 21,
   "metadata": {
    "collapsed": false,
    "jupyter": {
     "outputs_hidden": false
    }
   },
   "outputs": [],
   "source": [
    "from sklearn.svm import SVR\n",
    "from sklearn.neighbors import KNeighborsRegressor\n",
    "from sklearn.ensemble import RandomForestRegressor\n",
    "import xgboost as xgb\n",
    "from sklearn.model_selection import train_test_split\n",
    "import pandas as pd\n",
    "from sklearn.model_selection import RepeatedKFold\n",
    "from sklearn.metrics import mean_absolute_percentage_error, mean_absolute_error, mean_squared_error\n",
    "from sklearn.impute import IterativeImputer\n",
    "from sklearn.preprocessing import RobustScaler\n",
    "from sklearn.linear_model import Lasso, LinearRegression\n",
    "import seaborn as sns\n",
    "from sklearn.model_selection import RandomizedSearchCV\n",
    "import matplotlib.pyplot as plt\n",
    "from sklearn.inspection import permutation_importance\n",
    "from pycaret.regression import setup, compare_models\n",
    "from sklearn.preprocessing import MinMaxScaler\n",
    "import numpy as np"
   ]
  },
  {
   "cell_type": "code",
   "execution_count": 9,
   "metadata": {
    "collapsed": false,
    "jupyter": {
     "outputs_hidden": false
    }
   },
   "outputs": [],
   "source": [
    "df = pd.read_csv('../data/newborn_train.csv')"
   ]
  },
  {
   "cell_type": "code",
   "execution_count": 10,
   "metadata": {
    "collapsed": false,
    "jupyter": {
     "outputs_hidden": false
    }
   },
   "outputs": [
    {
     "data": {
      "text/html": [
       "<div>\n",
       "<style scoped>\n",
       "    .dataframe tbody tr th:only-of-type {\n",
       "        vertical-align: middle;\n",
       "    }\n",
       "\n",
       "    .dataframe tbody tr th {\n",
       "        vertical-align: top;\n",
       "    }\n",
       "\n",
       "    .dataframe thead th {\n",
       "        text-align: right;\n",
       "    }\n",
       "</style>\n",
       "<table border=\"1\" class=\"dataframe\">\n",
       "  <thead>\n",
       "    <tr style=\"text-align: right;\">\n",
       "      <th></th>\n",
       "      <th>mother_body_mass_index</th>\n",
       "      <th>mother_marital_status</th>\n",
       "      <th>mother_delivery_weight</th>\n",
       "      <th>mother_race</th>\n",
       "      <th>mother_height</th>\n",
       "      <th>mother_weight_gain</th>\n",
       "      <th>father_age</th>\n",
       "      <th>father_education</th>\n",
       "      <th>cigarettes_before_pregnancy</th>\n",
       "      <th>prenatal_care_month</th>\n",
       "      <th>number_prenatal_visits</th>\n",
       "      <th>previous_cesarean</th>\n",
       "      <th>newborn_gender</th>\n",
       "      <th>newborn_weight</th>\n",
       "    </tr>\n",
       "  </thead>\n",
       "  <tbody>\n",
       "    <tr>\n",
       "      <th>0</th>\n",
       "      <td>30.8</td>\n",
       "      <td>2.0</td>\n",
       "      <td>220.0</td>\n",
       "      <td>1</td>\n",
       "      <td>65.0</td>\n",
       "      <td>35.0</td>\n",
       "      <td>29.0</td>\n",
       "      <td>6</td>\n",
       "      <td>0.0</td>\n",
       "      <td>2</td>\n",
       "      <td>10.0</td>\n",
       "      <td>N</td>\n",
       "      <td>F</td>\n",
       "      <td>3045</td>\n",
       "    </tr>\n",
       "    <tr>\n",
       "      <th>1</th>\n",
       "      <td>45.8</td>\n",
       "      <td>NaN</td>\n",
       "      <td>293.0</td>\n",
       "      <td>1</td>\n",
       "      <td>64.0</td>\n",
       "      <td>26.0</td>\n",
       "      <td>37.0</td>\n",
       "      <td>4</td>\n",
       "      <td>0.0</td>\n",
       "      <td>3</td>\n",
       "      <td>10.0</td>\n",
       "      <td>N</td>\n",
       "      <td>F</td>\n",
       "      <td>3061</td>\n",
       "    </tr>\n",
       "    <tr>\n",
       "      <th>2</th>\n",
       "      <td>NaN</td>\n",
       "      <td>1.0</td>\n",
       "      <td>NaN</td>\n",
       "      <td>1</td>\n",
       "      <td>66.0</td>\n",
       "      <td>NaN</td>\n",
       "      <td>33.0</td>\n",
       "      <td>6</td>\n",
       "      <td>0.0</td>\n",
       "      <td>3</td>\n",
       "      <td>NaN</td>\n",
       "      <td>N</td>\n",
       "      <td>F</td>\n",
       "      <td>3827</td>\n",
       "    </tr>\n",
       "    <tr>\n",
       "      <th>3</th>\n",
       "      <td>24.3</td>\n",
       "      <td>1.0</td>\n",
       "      <td>157.0</td>\n",
       "      <td>1</td>\n",
       "      <td>NaN</td>\n",
       "      <td>20.0</td>\n",
       "      <td>27.0</td>\n",
       "      <td>6</td>\n",
       "      <td>0.0</td>\n",
       "      <td>3</td>\n",
       "      <td>9.0</td>\n",
       "      <td>N</td>\n",
       "      <td>M</td>\n",
       "      <td>3997</td>\n",
       "    </tr>\n",
       "    <tr>\n",
       "      <th>4</th>\n",
       "      <td>24.1</td>\n",
       "      <td>1.0</td>\n",
       "      <td>187.0</td>\n",
       "      <td>1</td>\n",
       "      <td>65.0</td>\n",
       "      <td>42.0</td>\n",
       "      <td>29.0</td>\n",
       "      <td>8</td>\n",
       "      <td>0.0</td>\n",
       "      <td>2</td>\n",
       "      <td>12.0</td>\n",
       "      <td>N</td>\n",
       "      <td>F</td>\n",
       "      <td>3240</td>\n",
       "    </tr>\n",
       "  </tbody>\n",
       "</table>\n",
       "</div>"
      ],
      "text/plain": [
       "   mother_body_mass_index  mother_marital_status  mother_delivery_weight  \\\n",
       "0                    30.8                    2.0                   220.0   \n",
       "1                    45.8                    NaN                   293.0   \n",
       "2                     NaN                    1.0                     NaN   \n",
       "3                    24.3                    1.0                   157.0   \n",
       "4                    24.1                    1.0                   187.0   \n",
       "\n",
       "   mother_race  mother_height  mother_weight_gain  father_age  \\\n",
       "0            1           65.0                35.0        29.0   \n",
       "1            1           64.0                26.0        37.0   \n",
       "2            1           66.0                 NaN        33.0   \n",
       "3            1            NaN                20.0        27.0   \n",
       "4            1           65.0                42.0        29.0   \n",
       "\n",
       "   father_education  cigarettes_before_pregnancy  prenatal_care_month  \\\n",
       "0                 6                          0.0                    2   \n",
       "1                 4                          0.0                    3   \n",
       "2                 6                          0.0                    3   \n",
       "3                 6                          0.0                    3   \n",
       "4                 8                          0.0                    2   \n",
       "\n",
       "   number_prenatal_visits previous_cesarean newborn_gender  newborn_weight  \n",
       "0                    10.0                 N              F            3045  \n",
       "1                    10.0                 N              F            3061  \n",
       "2                     NaN                 N              F            3827  \n",
       "3                     9.0                 N              M            3997  \n",
       "4                    12.0                 N              F            3240  "
      ]
     },
     "execution_count": 10,
     "metadata": {},
     "output_type": "execute_result"
    }
   ],
   "source": [
    "df.head()"
   ]
  },
  {
   "cell_type": "code",
   "execution_count": 11,
   "metadata": {
    "collapsed": false,
    "jupyter": {
     "outputs_hidden": false
    }
   },
   "outputs": [],
   "source": [
    "df.previous_cesarean = df.previous_cesarean.map({'N': 0, 'Y': 1})\n",
    "df.newborn_gender = df.newborn_gender.map({'F': 0, 'M': 1})"
   ]
  },
  {
   "cell_type": "code",
   "execution_count": 12,
   "metadata": {
    "collapsed": false,
    "jupyter": {
     "outputs_hidden": false
    }
   },
   "outputs": [],
   "source": [
    "X, X_test, y, y_test = train_test_split(df.drop(columns='newborn_weight'), df.newborn_weight, test_size=0.1)"
   ]
  },
  {
   "cell_type": "code",
   "execution_count": 13,
   "metadata": {},
   "outputs": [
    {
     "data": {
      "text/html": [
       "<style type=\"text/css\">\n",
       "#T_f183b_row9_col1, #T_f183b_row16_col1 {\n",
       "  background-color: lightgreen;\n",
       "}\n",
       "</style>\n",
       "<table id=\"T_f183b\">\n",
       "  <thead>\n",
       "    <tr>\n",
       "      <th class=\"blank level0\" >&nbsp;</th>\n",
       "      <th id=\"T_f183b_level0_col0\" class=\"col_heading level0 col0\" >Description</th>\n",
       "      <th id=\"T_f183b_level0_col1\" class=\"col_heading level0 col1\" >Value</th>\n",
       "    </tr>\n",
       "  </thead>\n",
       "  <tbody>\n",
       "    <tr>\n",
       "      <th id=\"T_f183b_level0_row0\" class=\"row_heading level0 row0\" >0</th>\n",
       "      <td id=\"T_f183b_row0_col0\" class=\"data row0 col0\" >Session id</td>\n",
       "      <td id=\"T_f183b_row0_col1\" class=\"data row0 col1\" >1352</td>\n",
       "    </tr>\n",
       "    <tr>\n",
       "      <th id=\"T_f183b_level0_row1\" class=\"row_heading level0 row1\" >1</th>\n",
       "      <td id=\"T_f183b_row1_col0\" class=\"data row1 col0\" >Target</td>\n",
       "      <td id=\"T_f183b_row1_col1\" class=\"data row1 col1\" >newborn_weight</td>\n",
       "    </tr>\n",
       "    <tr>\n",
       "      <th id=\"T_f183b_level0_row2\" class=\"row_heading level0 row2\" >2</th>\n",
       "      <td id=\"T_f183b_row2_col0\" class=\"data row2 col0\" >Target type</td>\n",
       "      <td id=\"T_f183b_row2_col1\" class=\"data row2 col1\" >Regression</td>\n",
       "    </tr>\n",
       "    <tr>\n",
       "      <th id=\"T_f183b_level0_row3\" class=\"row_heading level0 row3\" >3</th>\n",
       "      <td id=\"T_f183b_row3_col0\" class=\"data row3 col0\" >Original data shape</td>\n",
       "      <td id=\"T_f183b_row3_col1\" class=\"data row3 col1\" >(2398116, 14)</td>\n",
       "    </tr>\n",
       "    <tr>\n",
       "      <th id=\"T_f183b_level0_row4\" class=\"row_heading level0 row4\" >4</th>\n",
       "      <td id=\"T_f183b_row4_col0\" class=\"data row4 col0\" >Transformed data shape</td>\n",
       "      <td id=\"T_f183b_row4_col1\" class=\"data row4 col1\" >(2398116, 14)</td>\n",
       "    </tr>\n",
       "    <tr>\n",
       "      <th id=\"T_f183b_level0_row5\" class=\"row_heading level0 row5\" >5</th>\n",
       "      <td id=\"T_f183b_row5_col0\" class=\"data row5 col0\" >Transformed train set shape</td>\n",
       "      <td id=\"T_f183b_row5_col1\" class=\"data row5 col1\" >(1678681, 14)</td>\n",
       "    </tr>\n",
       "    <tr>\n",
       "      <th id=\"T_f183b_level0_row6\" class=\"row_heading level0 row6\" >6</th>\n",
       "      <td id=\"T_f183b_row6_col0\" class=\"data row6 col0\" >Transformed test set shape</td>\n",
       "      <td id=\"T_f183b_row6_col1\" class=\"data row6 col1\" >(719435, 14)</td>\n",
       "    </tr>\n",
       "    <tr>\n",
       "      <th id=\"T_f183b_level0_row7\" class=\"row_heading level0 row7\" >7</th>\n",
       "      <td id=\"T_f183b_row7_col0\" class=\"data row7 col0\" >Numeric features</td>\n",
       "      <td id=\"T_f183b_row7_col1\" class=\"data row7 col1\" >13</td>\n",
       "    </tr>\n",
       "    <tr>\n",
       "      <th id=\"T_f183b_level0_row8\" class=\"row_heading level0 row8\" >8</th>\n",
       "      <td id=\"T_f183b_row8_col0\" class=\"data row8 col0\" >Rows with missing values</td>\n",
       "      <td id=\"T_f183b_row8_col1\" class=\"data row8 col1\" >45.1%</td>\n",
       "    </tr>\n",
       "    <tr>\n",
       "      <th id=\"T_f183b_level0_row9\" class=\"row_heading level0 row9\" >9</th>\n",
       "      <td id=\"T_f183b_row9_col0\" class=\"data row9 col0\" >Preprocess</td>\n",
       "      <td id=\"T_f183b_row9_col1\" class=\"data row9 col1\" >True</td>\n",
       "    </tr>\n",
       "    <tr>\n",
       "      <th id=\"T_f183b_level0_row10\" class=\"row_heading level0 row10\" >10</th>\n",
       "      <td id=\"T_f183b_row10_col0\" class=\"data row10 col0\" >Imputation type</td>\n",
       "      <td id=\"T_f183b_row10_col1\" class=\"data row10 col1\" >simple</td>\n",
       "    </tr>\n",
       "    <tr>\n",
       "      <th id=\"T_f183b_level0_row11\" class=\"row_heading level0 row11\" >11</th>\n",
       "      <td id=\"T_f183b_row11_col0\" class=\"data row11 col0\" >Numeric imputation</td>\n",
       "      <td id=\"T_f183b_row11_col1\" class=\"data row11 col1\" >mean</td>\n",
       "    </tr>\n",
       "    <tr>\n",
       "      <th id=\"T_f183b_level0_row12\" class=\"row_heading level0 row12\" >12</th>\n",
       "      <td id=\"T_f183b_row12_col0\" class=\"data row12 col0\" >Categorical imputation</td>\n",
       "      <td id=\"T_f183b_row12_col1\" class=\"data row12 col1\" >mode</td>\n",
       "    </tr>\n",
       "    <tr>\n",
       "      <th id=\"T_f183b_level0_row13\" class=\"row_heading level0 row13\" >13</th>\n",
       "      <td id=\"T_f183b_row13_col0\" class=\"data row13 col0\" >Fold Generator</td>\n",
       "      <td id=\"T_f183b_row13_col1\" class=\"data row13 col1\" >KFold</td>\n",
       "    </tr>\n",
       "    <tr>\n",
       "      <th id=\"T_f183b_level0_row14\" class=\"row_heading level0 row14\" >14</th>\n",
       "      <td id=\"T_f183b_row14_col0\" class=\"data row14 col0\" >Fold Number</td>\n",
       "      <td id=\"T_f183b_row14_col1\" class=\"data row14 col1\" >5</td>\n",
       "    </tr>\n",
       "    <tr>\n",
       "      <th id=\"T_f183b_level0_row15\" class=\"row_heading level0 row15\" >15</th>\n",
       "      <td id=\"T_f183b_row15_col0\" class=\"data row15 col0\" >CPU Jobs</td>\n",
       "      <td id=\"T_f183b_row15_col1\" class=\"data row15 col1\" >-1</td>\n",
       "    </tr>\n",
       "    <tr>\n",
       "      <th id=\"T_f183b_level0_row16\" class=\"row_heading level0 row16\" >16</th>\n",
       "      <td id=\"T_f183b_row16_col0\" class=\"data row16 col0\" >Use GPU</td>\n",
       "      <td id=\"T_f183b_row16_col1\" class=\"data row16 col1\" >True</td>\n",
       "    </tr>\n",
       "    <tr>\n",
       "      <th id=\"T_f183b_level0_row17\" class=\"row_heading level0 row17\" >17</th>\n",
       "      <td id=\"T_f183b_row17_col0\" class=\"data row17 col0\" >Log Experiment</td>\n",
       "      <td id=\"T_f183b_row17_col1\" class=\"data row17 col1\" >False</td>\n",
       "    </tr>\n",
       "    <tr>\n",
       "      <th id=\"T_f183b_level0_row18\" class=\"row_heading level0 row18\" >18</th>\n",
       "      <td id=\"T_f183b_row18_col0\" class=\"data row18 col0\" >Experiment Name</td>\n",
       "      <td id=\"T_f183b_row18_col1\" class=\"data row18 col1\" >reg-default-name</td>\n",
       "    </tr>\n",
       "    <tr>\n",
       "      <th id=\"T_f183b_level0_row19\" class=\"row_heading level0 row19\" >19</th>\n",
       "      <td id=\"T_f183b_row19_col0\" class=\"data row19 col0\" >USI</td>\n",
       "      <td id=\"T_f183b_row19_col1\" class=\"data row19 col1\" >963b</td>\n",
       "    </tr>\n",
       "  </tbody>\n",
       "</table>\n"
      ],
      "text/plain": [
       "<pandas.io.formats.style.Styler at 0x7f80e18b6a00>"
      ]
     },
     "metadata": {},
     "output_type": "display_data"
    }
   ],
   "source": [
    "clf = setup(df, target='newborn_weight', use_gpu=True, n_jobs=-1, fold=5)"
   ]
  },
  {
   "cell_type": "code",
   "execution_count": 14,
   "metadata": {},
   "outputs": [
    {
     "data": {
      "text/html": [],
      "text/plain": [
       "<IPython.core.display.HTML object>"
      ]
     },
     "metadata": {},
     "output_type": "display_data"
    },
    {
     "data": {
      "text/html": [
       "<style type=\"text/css\">\n",
       "#T_f1acb th {\n",
       "  text-align: left;\n",
       "}\n",
       "#T_f1acb_row0_col0, #T_f1acb_row1_col0, #T_f1acb_row1_col1, #T_f1acb_row1_col2, #T_f1acb_row1_col3, #T_f1acb_row1_col4, #T_f1acb_row1_col5, #T_f1acb_row1_col6, #T_f1acb_row2_col0, #T_f1acb_row2_col1, #T_f1acb_row2_col2, #T_f1acb_row2_col3, #T_f1acb_row2_col4, #T_f1acb_row2_col5, #T_f1acb_row2_col6, #T_f1acb_row3_col0, #T_f1acb_row3_col1, #T_f1acb_row3_col2, #T_f1acb_row3_col3, #T_f1acb_row3_col4, #T_f1acb_row3_col5, #T_f1acb_row3_col6, #T_f1acb_row4_col0, #T_f1acb_row4_col1, #T_f1acb_row4_col2, #T_f1acb_row4_col3, #T_f1acb_row4_col4, #T_f1acb_row4_col5, #T_f1acb_row4_col6, #T_f1acb_row5_col0, #T_f1acb_row5_col1, #T_f1acb_row5_col2, #T_f1acb_row5_col3, #T_f1acb_row5_col4, #T_f1acb_row5_col5, #T_f1acb_row5_col6, #T_f1acb_row6_col0, #T_f1acb_row6_col1, #T_f1acb_row6_col2, #T_f1acb_row6_col3, #T_f1acb_row6_col4, #T_f1acb_row6_col5, #T_f1acb_row6_col6, #T_f1acb_row7_col0, #T_f1acb_row7_col1, #T_f1acb_row7_col2, #T_f1acb_row7_col3, #T_f1acb_row7_col4, #T_f1acb_row7_col5, #T_f1acb_row7_col6, #T_f1acb_row8_col0, #T_f1acb_row8_col1, #T_f1acb_row8_col2, #T_f1acb_row8_col3, #T_f1acb_row8_col4, #T_f1acb_row8_col5, #T_f1acb_row8_col6, #T_f1acb_row9_col0, #T_f1acb_row9_col1, #T_f1acb_row9_col2, #T_f1acb_row9_col3, #T_f1acb_row9_col4, #T_f1acb_row9_col5, #T_f1acb_row9_col6 {\n",
       "  text-align: left;\n",
       "}\n",
       "#T_f1acb_row0_col1, #T_f1acb_row0_col2, #T_f1acb_row0_col3, #T_f1acb_row0_col4, #T_f1acb_row0_col5, #T_f1acb_row0_col6 {\n",
       "  text-align: left;\n",
       "  background-color: yellow;\n",
       "}\n",
       "#T_f1acb_row0_col7, #T_f1acb_row1_col7, #T_f1acb_row2_col7, #T_f1acb_row3_col7, #T_f1acb_row4_col7, #T_f1acb_row5_col7, #T_f1acb_row6_col7, #T_f1acb_row8_col7, #T_f1acb_row9_col7 {\n",
       "  text-align: left;\n",
       "  background-color: lightgrey;\n",
       "}\n",
       "#T_f1acb_row7_col7 {\n",
       "  text-align: left;\n",
       "  background-color: yellow;\n",
       "  background-color: lightgrey;\n",
       "}\n",
       "</style>\n",
       "<table id=\"T_f1acb\">\n",
       "  <thead>\n",
       "    <tr>\n",
       "      <th class=\"blank level0\" >&nbsp;</th>\n",
       "      <th id=\"T_f1acb_level0_col0\" class=\"col_heading level0 col0\" >Model</th>\n",
       "      <th id=\"T_f1acb_level0_col1\" class=\"col_heading level0 col1\" >MAE</th>\n",
       "      <th id=\"T_f1acb_level0_col2\" class=\"col_heading level0 col2\" >MSE</th>\n",
       "      <th id=\"T_f1acb_level0_col3\" class=\"col_heading level0 col3\" >RMSE</th>\n",
       "      <th id=\"T_f1acb_level0_col4\" class=\"col_heading level0 col4\" >R2</th>\n",
       "      <th id=\"T_f1acb_level0_col5\" class=\"col_heading level0 col5\" >RMSLE</th>\n",
       "      <th id=\"T_f1acb_level0_col6\" class=\"col_heading level0 col6\" >MAPE</th>\n",
       "      <th id=\"T_f1acb_level0_col7\" class=\"col_heading level0 col7\" >TT (Sec)</th>\n",
       "    </tr>\n",
       "  </thead>\n",
       "  <tbody>\n",
       "    <tr>\n",
       "      <th id=\"T_f1acb_level0_row0\" class=\"row_heading level0 row0\" >xgboost</th>\n",
       "      <td id=\"T_f1acb_row0_col0\" class=\"data row0 col0\" >Extreme Gradient Boosting</td>\n",
       "      <td id=\"T_f1acb_row0_col1\" class=\"data row0 col1\" >402.9049</td>\n",
       "      <td id=\"T_f1acb_row0_col2\" class=\"data row0 col2\" >293005.0081</td>\n",
       "      <td id=\"T_f1acb_row0_col3\" class=\"data row0 col3\" >541.2991</td>\n",
       "      <td id=\"T_f1acb_row0_col4\" class=\"data row0 col4\" >0.1590</td>\n",
       "      <td id=\"T_f1acb_row0_col5\" class=\"data row0 col5\" >0.2123</td>\n",
       "      <td id=\"T_f1acb_row0_col6\" class=\"data row0 col6\" >0.1552</td>\n",
       "      <td id=\"T_f1acb_row0_col7\" class=\"data row0 col7\" >0.8920</td>\n",
       "    </tr>\n",
       "    <tr>\n",
       "      <th id=\"T_f1acb_level0_row1\" class=\"row_heading level0 row1\" >rf</th>\n",
       "      <td id=\"T_f1acb_row1_col0\" class=\"data row1 col0\" >Random Forest Regressor</td>\n",
       "      <td id=\"T_f1acb_row1_col1\" class=\"data row1 col1\" >413.6692</td>\n",
       "      <td id=\"T_f1acb_row1_col2\" class=\"data row1 col2\" >304401.9691</td>\n",
       "      <td id=\"T_f1acb_row1_col3\" class=\"data row1 col3\" >551.7260</td>\n",
       "      <td id=\"T_f1acb_row1_col4\" class=\"data row1 col4\" >0.1263</td>\n",
       "      <td id=\"T_f1acb_row1_col5\" class=\"data row1 col5\" >0.2134</td>\n",
       "      <td id=\"T_f1acb_row1_col6\" class=\"data row1 col6\" >0.1569</td>\n",
       "      <td id=\"T_f1acb_row1_col7\" class=\"data row1 col7\" >46.6180</td>\n",
       "    </tr>\n",
       "    <tr>\n",
       "      <th id=\"T_f1acb_level0_row2\" class=\"row_heading level0 row2\" >lr</th>\n",
       "      <td id=\"T_f1acb_row2_col0\" class=\"data row2 col0\" >Linear Regression</td>\n",
       "      <td id=\"T_f1acb_row2_col1\" class=\"data row2 col1\" >413.6904</td>\n",
       "      <td id=\"T_f1acb_row2_col2\" class=\"data row2 col2\" >316065.3470</td>\n",
       "      <td id=\"T_f1acb_row2_col3\" class=\"data row2 col3\" >562.1968</td>\n",
       "      <td id=\"T_f1acb_row2_col4\" class=\"data row2 col4\" >0.0928</td>\n",
       "      <td id=\"T_f1acb_row2_col5\" class=\"data row2 col5\" >0.2219</td>\n",
       "      <td id=\"T_f1acb_row2_col6\" class=\"data row2 col6\" >0.1630</td>\n",
       "      <td id=\"T_f1acb_row2_col7\" class=\"data row2 col7\" >0.9320</td>\n",
       "    </tr>\n",
       "    <tr>\n",
       "      <th id=\"T_f1acb_level0_row3\" class=\"row_heading level0 row3\" >lasso</th>\n",
       "      <td id=\"T_f1acb_row3_col0\" class=\"data row3 col0\" >Lasso Regression</td>\n",
       "      <td id=\"T_f1acb_row3_col1\" class=\"data row3 col1\" >413.6837</td>\n",
       "      <td id=\"T_f1acb_row3_col2\" class=\"data row3 col2\" >316083.3045</td>\n",
       "      <td id=\"T_f1acb_row3_col3\" class=\"data row3 col3\" >562.2127</td>\n",
       "      <td id=\"T_f1acb_row3_col4\" class=\"data row3 col4\" >0.0928</td>\n",
       "      <td id=\"T_f1acb_row3_col5\" class=\"data row3 col5\" >0.2219</td>\n",
       "      <td id=\"T_f1acb_row3_col6\" class=\"data row3 col6\" >0.1630</td>\n",
       "      <td id=\"T_f1acb_row3_col7\" class=\"data row3 col7\" >1.0880</td>\n",
       "    </tr>\n",
       "    <tr>\n",
       "      <th id=\"T_f1acb_level0_row4\" class=\"row_heading level0 row4\" >ridge</th>\n",
       "      <td id=\"T_f1acb_row4_col0\" class=\"data row4 col0\" >Ridge Regression</td>\n",
       "      <td id=\"T_f1acb_row4_col1\" class=\"data row4 col1\" >413.6904</td>\n",
       "      <td id=\"T_f1acb_row4_col2\" class=\"data row4 col2\" >316065.3471</td>\n",
       "      <td id=\"T_f1acb_row4_col3\" class=\"data row4 col3\" >562.1968</td>\n",
       "      <td id=\"T_f1acb_row4_col4\" class=\"data row4 col4\" >0.0928</td>\n",
       "      <td id=\"T_f1acb_row4_col5\" class=\"data row4 col5\" >0.2219</td>\n",
       "      <td id=\"T_f1acb_row4_col6\" class=\"data row4 col6\" >0.1630</td>\n",
       "      <td id=\"T_f1acb_row4_col7\" class=\"data row4 col7\" >0.2800</td>\n",
       "    </tr>\n",
       "    <tr>\n",
       "      <th id=\"T_f1acb_level0_row5\" class=\"row_heading level0 row5\" >en</th>\n",
       "      <td id=\"T_f1acb_row5_col0\" class=\"data row5 col0\" >Elastic Net</td>\n",
       "      <td id=\"T_f1acb_row5_col1\" class=\"data row5 col1\" >415.8310</td>\n",
       "      <td id=\"T_f1acb_row5_col2\" class=\"data row5 col2\" >318672.0655</td>\n",
       "      <td id=\"T_f1acb_row5_col3\" class=\"data row5 col3\" >564.5104</td>\n",
       "      <td id=\"T_f1acb_row5_col4\" class=\"data row5 col4\" >0.0854</td>\n",
       "      <td id=\"T_f1acb_row5_col5\" class=\"data row5 col5\" >0.2226</td>\n",
       "      <td id=\"T_f1acb_row5_col6\" class=\"data row5 col6\" >0.1638</td>\n",
       "      <td id=\"T_f1acb_row5_col7\" class=\"data row5 col7\" >0.8880</td>\n",
       "    </tr>\n",
       "    <tr>\n",
       "      <th id=\"T_f1acb_level0_row6\" class=\"row_heading level0 row6\" >ada</th>\n",
       "      <td id=\"T_f1acb_row6_col0\" class=\"data row6 col0\" >AdaBoost Regressor</td>\n",
       "      <td id=\"T_f1acb_row6_col1\" class=\"data row6 col1\" >430.3553</td>\n",
       "      <td id=\"T_f1acb_row6_col2\" class=\"data row6 col2\" >323942.3802</td>\n",
       "      <td id=\"T_f1acb_row6_col3\" class=\"data row6 col3\" >569.1576</td>\n",
       "      <td id=\"T_f1acb_row6_col4\" class=\"data row6 col4\" >0.0702</td>\n",
       "      <td id=\"T_f1acb_row6_col5\" class=\"data row6 col5\" >0.2182</td>\n",
       "      <td id=\"T_f1acb_row6_col6\" class=\"data row6 col6\" >0.1610</td>\n",
       "      <td id=\"T_f1acb_row6_col7\" class=\"data row6 col7\" >33.0760</td>\n",
       "    </tr>\n",
       "    <tr>\n",
       "      <th id=\"T_f1acb_level0_row7\" class=\"row_heading level0 row7\" >dummy</th>\n",
       "      <td id=\"T_f1acb_row7_col0\" class=\"data row7 col0\" >Dummy Regressor</td>\n",
       "      <td id=\"T_f1acb_row7_col1\" class=\"data row7 col1\" >435.7670</td>\n",
       "      <td id=\"T_f1acb_row7_col2\" class=\"data row7 col2\" >348413.3991</td>\n",
       "      <td id=\"T_f1acb_row7_col3\" class=\"data row7 col3\" >590.2653</td>\n",
       "      <td id=\"T_f1acb_row7_col4\" class=\"data row7 col4\" >-0.0000</td>\n",
       "      <td id=\"T_f1acb_row7_col5\" class=\"data row7 col5\" >0.2306</td>\n",
       "      <td id=\"T_f1acb_row7_col6\" class=\"data row7 col6\" >0.1720</td>\n",
       "      <td id=\"T_f1acb_row7_col7\" class=\"data row7 col7\" >0.2660</td>\n",
       "    </tr>\n",
       "    <tr>\n",
       "      <th id=\"T_f1acb_level0_row8\" class=\"row_heading level0 row8\" >knn</th>\n",
       "      <td id=\"T_f1acb_row8_col0\" class=\"data row8 col0\" >K Neighbors Regressor</td>\n",
       "      <td id=\"T_f1acb_row8_col1\" class=\"data row8 col1\" >450.5729</td>\n",
       "      <td id=\"T_f1acb_row8_col2\" class=\"data row8 col2\" >357362.2183</td>\n",
       "      <td id=\"T_f1acb_row8_col3\" class=\"data row8 col3\" >597.7977</td>\n",
       "      <td id=\"T_f1acb_row8_col4\" class=\"data row8 col4\" >-0.0257</td>\n",
       "      <td id=\"T_f1acb_row8_col5\" class=\"data row8 col5\" >0.2281</td>\n",
       "      <td id=\"T_f1acb_row8_col6\" class=\"data row8 col6\" >0.1715</td>\n",
       "      <td id=\"T_f1acb_row8_col7\" class=\"data row8 col7\" >11.1080</td>\n",
       "    </tr>\n",
       "    <tr>\n",
       "      <th id=\"T_f1acb_level0_row9\" class=\"row_heading level0 row9\" >dt</th>\n",
       "      <td id=\"T_f1acb_row9_col0\" class=\"data row9 col0\" >Decision Tree Regressor</td>\n",
       "      <td id=\"T_f1acb_row9_col1\" class=\"data row9 col1\" >597.7616</td>\n",
       "      <td id=\"T_f1acb_row9_col2\" class=\"data row9 col2\" >624306.2932</td>\n",
       "      <td id=\"T_f1acb_row9_col3\" class=\"data row9 col3\" >790.1301</td>\n",
       "      <td id=\"T_f1acb_row9_col4\" class=\"data row9 col4\" >-0.7919</td>\n",
       "      <td id=\"T_f1acb_row9_col5\" class=\"data row9 col5\" >0.3081</td>\n",
       "      <td id=\"T_f1acb_row9_col6\" class=\"data row9 col6\" >0.2145</td>\n",
       "      <td id=\"T_f1acb_row9_col7\" class=\"data row9 col7\" >10.1080</td>\n",
       "    </tr>\n",
       "  </tbody>\n",
       "</table>\n"
      ],
      "text/plain": [
       "<pandas.io.formats.style.Styler at 0x7f80e57678b0>"
      ]
     },
     "metadata": {},
     "output_type": "display_data"
    },
    {
     "data": {
      "text/html": [],
      "text/plain": [
       "<IPython.core.display.HTML object>"
      ]
     },
     "metadata": {},
     "output_type": "display_data"
    }
   ],
   "source": [
    "best = compare_models(include=['lr', 'lasso', 'ridge', 'en', 'knn', 'dt', 'rf', 'ada', 'xgboost', 'dummy'])"
   ]
  },
  {
   "cell_type": "code",
   "execution_count": 17,
   "metadata": {},
   "outputs": [
    {
     "data": {
      "text/html": [],
      "text/plain": [
       "<IPython.core.display.HTML object>"
      ]
     },
     "metadata": {},
     "output_type": "display_data"
    },
    {
     "data": {
      "text/html": [
       "<style type=\"text/css\">\n",
       "#T_e1a64 th {\n",
       "  text-align: left;\n",
       "}\n",
       "#T_e1a64_row0_col0 {\n",
       "  text-align: left;\n",
       "}\n",
       "#T_e1a64_row0_col1, #T_e1a64_row0_col2, #T_e1a64_row0_col3, #T_e1a64_row0_col4, #T_e1a64_row0_col5, #T_e1a64_row0_col6 {\n",
       "  text-align: left;\n",
       "  background-color: yellow;\n",
       "}\n",
       "#T_e1a64_row0_col7 {\n",
       "  text-align: left;\n",
       "  background-color: yellow;\n",
       "  background-color: lightgrey;\n",
       "}\n",
       "</style>\n",
       "<table id=\"T_e1a64\">\n",
       "  <thead>\n",
       "    <tr>\n",
       "      <th class=\"blank level0\" >&nbsp;</th>\n",
       "      <th id=\"T_e1a64_level0_col0\" class=\"col_heading level0 col0\" >Model</th>\n",
       "      <th id=\"T_e1a64_level0_col1\" class=\"col_heading level0 col1\" >MAE</th>\n",
       "      <th id=\"T_e1a64_level0_col2\" class=\"col_heading level0 col2\" >MSE</th>\n",
       "      <th id=\"T_e1a64_level0_col3\" class=\"col_heading level0 col3\" >RMSE</th>\n",
       "      <th id=\"T_e1a64_level0_col4\" class=\"col_heading level0 col4\" >R2</th>\n",
       "      <th id=\"T_e1a64_level0_col5\" class=\"col_heading level0 col5\" >RMSLE</th>\n",
       "      <th id=\"T_e1a64_level0_col6\" class=\"col_heading level0 col6\" >MAPE</th>\n",
       "      <th id=\"T_e1a64_level0_col7\" class=\"col_heading level0 col7\" >TT (Sec)</th>\n",
       "    </tr>\n",
       "  </thead>\n",
       "  <tbody>\n",
       "    <tr>\n",
       "      <th id=\"T_e1a64_level0_row0\" class=\"row_heading level0 row0\" >lasso</th>\n",
       "      <td id=\"T_e1a64_row0_col0\" class=\"data row0 col0\" >Lasso Regression</td>\n",
       "      <td id=\"T_e1a64_row0_col1\" class=\"data row0 col1\" >413.6837</td>\n",
       "      <td id=\"T_e1a64_row0_col2\" class=\"data row0 col2\" >316083.3045</td>\n",
       "      <td id=\"T_e1a64_row0_col3\" class=\"data row0 col3\" >562.2127</td>\n",
       "      <td id=\"T_e1a64_row0_col4\" class=\"data row0 col4\" >0.0928</td>\n",
       "      <td id=\"T_e1a64_row0_col5\" class=\"data row0 col5\" >0.2219</td>\n",
       "      <td id=\"T_e1a64_row0_col6\" class=\"data row0 col6\" >0.1630</td>\n",
       "      <td id=\"T_e1a64_row0_col7\" class=\"data row0 col7\" >0.2640</td>\n",
       "    </tr>\n",
       "  </tbody>\n",
       "</table>\n"
      ],
      "text/plain": [
       "<pandas.io.formats.style.Styler at 0x7f80e1886340>"
      ]
     },
     "metadata": {},
     "output_type": "display_data"
    },
    {
     "data": {
      "text/html": [],
      "text/plain": [
       "<IPython.core.display.HTML object>"
      ]
     },
     "metadata": {},
     "output_type": "display_data"
    }
   ],
   "source": [
    "lasso = compare_models(include=['lasso'])"
   ]
  },
  {
   "cell_type": "code",
   "execution_count": 18,
   "metadata": {},
   "outputs": [
    {
     "data": {
      "text/html": [],
      "text/plain": [
       "<IPython.core.display.HTML object>"
      ]
     },
     "metadata": {},
     "output_type": "display_data"
    },
    {
     "data": {
      "text/html": [
       "<style type=\"text/css\">\n",
       "#T_03e62 th {\n",
       "  text-align: left;\n",
       "}\n",
       "#T_03e62_row0_col0 {\n",
       "  text-align: left;\n",
       "}\n",
       "#T_03e62_row0_col1, #T_03e62_row0_col2, #T_03e62_row0_col3, #T_03e62_row0_col4, #T_03e62_row0_col5, #T_03e62_row0_col6 {\n",
       "  text-align: left;\n",
       "  background-color: yellow;\n",
       "}\n",
       "#T_03e62_row0_col7 {\n",
       "  text-align: left;\n",
       "  background-color: yellow;\n",
       "  background-color: lightgrey;\n",
       "}\n",
       "</style>\n",
       "<table id=\"T_03e62\">\n",
       "  <thead>\n",
       "    <tr>\n",
       "      <th class=\"blank level0\" >&nbsp;</th>\n",
       "      <th id=\"T_03e62_level0_col0\" class=\"col_heading level0 col0\" >Model</th>\n",
       "      <th id=\"T_03e62_level0_col1\" class=\"col_heading level0 col1\" >MAE</th>\n",
       "      <th id=\"T_03e62_level0_col2\" class=\"col_heading level0 col2\" >MSE</th>\n",
       "      <th id=\"T_03e62_level0_col3\" class=\"col_heading level0 col3\" >RMSE</th>\n",
       "      <th id=\"T_03e62_level0_col4\" class=\"col_heading level0 col4\" >R2</th>\n",
       "      <th id=\"T_03e62_level0_col5\" class=\"col_heading level0 col5\" >RMSLE</th>\n",
       "      <th id=\"T_03e62_level0_col6\" class=\"col_heading level0 col6\" >MAPE</th>\n",
       "      <th id=\"T_03e62_level0_col7\" class=\"col_heading level0 col7\" >TT (Sec)</th>\n",
       "    </tr>\n",
       "  </thead>\n",
       "  <tbody>\n",
       "    <tr>\n",
       "      <th id=\"T_03e62_level0_row0\" class=\"row_heading level0 row0\" >rf</th>\n",
       "      <td id=\"T_03e62_row0_col0\" class=\"data row0 col0\" >Random Forest Regressor</td>\n",
       "      <td id=\"T_03e62_row0_col1\" class=\"data row0 col1\" >413.6692</td>\n",
       "      <td id=\"T_03e62_row0_col2\" class=\"data row0 col2\" >304401.9691</td>\n",
       "      <td id=\"T_03e62_row0_col3\" class=\"data row0 col3\" >551.7260</td>\n",
       "      <td id=\"T_03e62_row0_col4\" class=\"data row0 col4\" >0.1263</td>\n",
       "      <td id=\"T_03e62_row0_col5\" class=\"data row0 col5\" >0.2134</td>\n",
       "      <td id=\"T_03e62_row0_col6\" class=\"data row0 col6\" >0.1569</td>\n",
       "      <td id=\"T_03e62_row0_col7\" class=\"data row0 col7\" >45.9560</td>\n",
       "    </tr>\n",
       "  </tbody>\n",
       "</table>\n"
      ],
      "text/plain": [
       "<pandas.io.formats.style.Styler at 0x7f80a770ee80>"
      ]
     },
     "metadata": {},
     "output_type": "display_data"
    },
    {
     "data": {
      "text/html": [],
      "text/plain": [
       "<IPython.core.display.HTML object>"
      ]
     },
     "metadata": {},
     "output_type": "display_data"
    }
   ],
   "source": [
    "rf = compare_models(include=['rf'])"
   ]
  },
  {
   "cell_type": "code",
   "execution_count": 23,
   "metadata": {},
   "outputs": [],
   "source": [
    "scaler = MinMaxScaler()\n",
    "df_xgb = pd.DataFrame({\n",
    "    'feature': best.feature_names_in_,\n",
    "    'importance': scaler.fit_transform(best.feature_importances_.reshape(-1, 1)).ravel(),\n",
    "    'model_type': 'XGB'\n",
    "})\n",
    "scaler = MinMaxScaler()\n",
    "df_lasso = pd.DataFrame({\n",
    "    'feature': best.feature_names_in_,\n",
    "    'importance': scaler.fit_transform(lasso.coef_.reshape(-1, 1)).ravel(),\n",
    "    'model_type': 'Lasso'\n",
    "})\n",
    "scaler = MinMaxScaler()\n",
    "df_rf = pd.DataFrame({\n",
    "    'feature': rf.feature_names_in_,\n",
    "    'importance': scaler.fit_transform(rf.feature_importances_.reshape(-1, 1)).ravel(),\n",
    "    'model_type': 'Random Forest'\n",
    "})"
   ]
  },
  {
   "cell_type": "code",
   "execution_count": 28,
   "metadata": {
    "collapsed": false,
    "jupyter": {
     "outputs_hidden": false
    }
   },
   "outputs": [
    {
     "data": {
      "text/plain": [
       "Text(0, 0.5, 'Feature')"
      ]
     },
     "execution_count": 28,
     "metadata": {},
     "output_type": "execute_result"
    },
    {
     "data": {
      "image/png": "[encoded data removed]",
      "text/plain": [
       "<Figure size 720x576 with 1 Axes>"
      ]
     },
     "metadata": {
      "needs_background": "light"
     },
     "output_type": "display_data"
    }
   ],
   "source": [
    "df = pd.concat([df_xgb, df_lasso, df_rf])\n",
    "\n",
    "# Plot the data\n",
    "plt.figure(figsize=(10, 8))\n",
    "sns.barplot(x='importance', y='feature', hue='model_type', data=df, orient='h')\n",
    "plt.title('Scaled Feature Importances')\n",
    "plt.xlabel('Importance')\n",
    "plt.ylabel('Feature')"
   ]
  },
  {
   "cell_type": "code",
   "execution_count": 25,
   "metadata": {},
   "outputs": [
    {
     "data": {
      "text/plain": [
       "Text(0, 0.5, 'Feature')"
      ]
     },
     "execution_count": 25,
     "metadata": {},
     "output_type": "execute_result"
    },
    {
     "data": {
      "image/png": "[encoded data removed]",
      "text/plain": [
       "<Figure size 720x576 with 1 Axes>"
      ]
     },
     "metadata": {
      "needs_background": "light"
     },
     "output_type": "display_data"
    }
   ],
   "source": [
    "df_xgb_raw = pd.DataFrame({\n",
    "    'feature': best.feature_names_in_,\n",
    "    'importance': best.feature_importances_,\n",
    "    'model_type': 'XGB'\n",
    "})\n",
    "# Plot the data\n",
    "plt.figure(figsize=(10, 8))\n",
    "sns.barplot(x='importance', y='feature', data=df_xgb_raw, orient='h')\n",
    "plt.title('Feature Importances for XGB')\n",
    "plt.xlabel('Importance')\n",
    "plt.ylabel('Feature')"
   ]
  },
  {
   "cell_type": "code",
   "execution_count": 26,
   "metadata": {},
   "outputs": [
    {
     "data": {
      "text/plain": [
       "Text(0, 0.5, 'Feature')"
      ]
     },
     "execution_count": 26,
     "metadata": {},
     "output_type": "execute_result"
    },
    {
     "data": {
      "image/png": "[encoded data removed]",
      "text/plain": [
       "<Figure size 720x576 with 1 Axes>"
      ]
     },
     "metadata": {
      "needs_background": "light"
     },
     "output_type": "display_data"
    }
   ],
   "source": [
    "df_lasso_raw = pd.DataFrame({\n",
    "    'feature': best.feature_names_in_,\n",
    "    'importance': lasso.coef_,\n",
    "    'model_type': 'Lasso'\n",
    "})\n",
    "# Plot the data\n",
    "plt.figure(figsize=(10, 8))\n",
    "sns.barplot(x='importance', y='feature', data=df_lasso_raw, orient='h')\n",
    "plt.title('Feature Importances for Lasso')\n",
    "plt.xlabel('Importance')\n",
    "plt.ylabel('Feature')"
   ]
  },
  {
   "cell_type": "code",
   "execution_count": 27,
   "metadata": {},
   "outputs": [
    {
     "data": {
      "text/plain": [
       "Text(0, 0.5, 'Feature')"
      ]
     },
     "execution_count": 27,
     "metadata": {},
     "output_type": "execute_result"
    },
    {
     "data": {
      "image/png": "[encoded data removed]",
      "text/plain": [
       "<Figure size 720x576 with 1 Axes>"
      ]
     },
     "metadata": {
      "needs_background": "light"
     },
     "output_type": "display_data"
    }
   ],
   "source": [
    "df_rf_raw = pd.DataFrame({\n",
    "    'feature': rf.feature_names_in_,\n",
    "    'importance': rf.feature_importances_,\n",
    "    'model_type': 'Random Forest'\n",
    "})\n",
    "# Plot the data\n",
    "plt.figure(figsize=(10, 8))\n",
    "sns.barplot(x='importance', y='feature', data=df_rf_raw, orient='h')\n",
    "plt.title('Feature Importances for RF')\n",
    "plt.xlabel('Importance')\n",
    "plt.ylabel('Feature')"
   ]
  },
  {
   "cell_type": "markdown",
   "metadata": {
    "collapsed": false
   },
   "source": [
    "When it comes to least important features shared by the models, we have decided to drop:\n",
    "- mother marital status\n",
    "- cigarettes between pregnancy\n",
    "- previous cesarean"
   ]
  },
  {
   "cell_type": "code",
   "execution_count": null,
   "metadata": {
    "collapsed": false
   },
   "outputs": [],
   "source": [
    "X = X.drop(columns=['mother_marital_status', 'cigarettes_before_pregnancy', 'previous_cesarean'])"
   ]
  },
  {
   "cell_type": "markdown",
   "source": [],
   "metadata": {
    "collapsed": false
   }
  },
  {
   "cell_type": "code",
   "execution_count": null,
   "outputs": [],
   "source": [
    "model_lst = [Lasso, LinearRegression, xgb.XGBRegressor]\n",
    "mape_dct_train = dict()\n",
    "mape_dct_test = dict()\n",
    "for model_base in model_lst:\n",
    "    mape_dct_train[str(model_base)] = []\n",
    "    mape_dct_test[str(model_base)] = []"
   ],
   "metadata": {
    "collapsed": false
   }
  },
  {
   "cell_type": "markdown",
   "source": [
    "Checking predictions on imputed datasets, with repeated k fold cv"
   ],
   "metadata": {
    "collapsed": false
   }
  },
  {
   "cell_type": "code",
   "execution_count": null,
   "metadata": {
    "collapsed": false
   },
   "outputs": [
    {
     "name": "stdout",
     "output_type": "stream",
     "text": [
      "split 0\n"
     ]
    }
   ],
   "source": [
    "rkf = RepeatedKFold(random_state=420602)\n",
    "i = 0\n",
    "for train_index, test_index in rkf.split(X, y):\n",
    "    print(f'split {i}')\n",
    "    i += 1\n",
    "    X_train, X_test = X.iloc[train_index], X.iloc[test_index]\n",
    "    y_train, y_test = y.iloc[train_index], y.iloc[test_index]\n",
    "    # imputation goes here\n",
    "    scaler = RobustScaler()\n",
    "    imputer = IterativeImputer()\n",
    "    scaler.fit(X_train)\n",
    "    X_train_scaled = scaler.transform(X_train)\n",
    "    imputer.fit(X_train_scaled)\n",
    "    X_train_imputed = imputer.transform(X_train_scaled)\n",
    "    X_test_scaled = scaler.transform(X_test)\n",
    "    X_test_imputed = imputer.transform(X_test_scaled)\n",
    "    # models\n",
    "    for model_base in model_lst:\n",
    "        if 'xgb' in str(model_base):\n",
    "            params_gpu = {\"tree_method\": \"gpu_hist\", \"gpu_id\": 0, \"eval_metric\": \"mape\"}\n",
    "            model = model_base(**params_gpu)\n",
    "        else:\n",
    "            model = model_base()\n",
    "        model.fit(X_train_imputed, y_train)\n",
    "        pred_train = model.predict(X_test_imputed)\n",
    "        pred_test = model.predict(X_train_imputed)\n",
    "        mape_dct_test[str(model_base)].append(mean_absolute_percentage_error(y_test, pred_test))\n",
    "        mape_dct_train[str(model_base)].append(mean_absolute_percentage_error(y_train, pred_train))\n",
    "        print(f'finished model {str(model)} for this split')"
   ]
  },
  {
   "cell_type": "markdown",
   "source": [
    "scores"
   ],
   "metadata": {
    "collapsed": false
   }
  },
  {
   "cell_type": "code",
   "execution_count": null,
   "outputs": [],
   "source": [
    "for model_base in model_lst:\n",
    "    print(f'{str(model_base)} avg score on train: {np.avg(mape_dct_train[str(model_base)])} and on test: {np.avg(mape_dct_test[str(model_base)])}')"
   ],
   "metadata": {
    "collapsed": false
   }
  },
  {
   "cell_type": "markdown",
   "source": [
    "So we focus on xgboost due to highest performance.\n",
    "Additional random search for xgb:"
   ],
   "metadata": {
    "collapsed": false
   }
  },
  {
   "cell_type": "code",
   "execution_count": null,
   "outputs": [],
   "source": [
    "possible_params = {\n",
    "    \"n_estimators\": [10, 25, 50, 100, 250],\n",
    "    \"eta\": [0.1, 0.15, 0.2],\n",
    "    \"max_depth\": [3, 5, 7],\n",
    "    \"colsample_bytree\": [0.8, 0.9],\n",
    "    \"gamma\": [0, 1, 3, 5],\n",
    "    \"eval_metric\": [\"mape\"],\n",
    "    \"objective\": [\"reg:absoluteerror\", \"reg:squarederror\"],\n",
    "    \"booster\": [\"gbtree\"],\n",
    "    \"tree_method\": [\"gpu_hist\"],\n",
    "    \"gpu_id\": [0],\n",
    "}"
   ],
   "metadata": {
    "collapsed": false
   }
  },
  {
   "cell_type": "code",
   "execution_count": null,
   "outputs": [],
   "source": [
    "xgbr = xgb.XGBRegressor()\n",
    "clf = RandomizedSearchCV(xgbr, possible_params, n_iter=25, n_jobs=-1, verbose=1)"
   ],
   "metadata": {
    "collapsed": false
   }
  },
  {
   "cell_type": "code",
   "execution_count": null,
   "outputs": [],
   "source": [
    "search = clf.fit(X, y)"
   ],
   "metadata": {
    "collapsed": false
   }
  },
  {
   "cell_type": "code",
   "execution_count": null,
   "outputs": [],
   "source": [
    "search.best_params"
   ],
   "metadata": {
    "collapsed": false
   }
  },
  {
   "cell_type": "code",
   "execution_count": null,
   "outputs": [],
   "source": [
    "cv_res = pd.DataFrame(search.cv_results_).sort_values(by='rank_test_score')"
   ],
   "metadata": {
    "collapsed": false
   }
  },
  {
   "cell_type": "code",
   "execution_count": null,
   "outputs": [],
   "source": [
    "cv_res"
   ],
   "metadata": {
    "collapsed": false
   }
  },
  {
   "cell_type": "markdown",
   "source": [
    "Additionally checking best models scores on oos test"
   ],
   "metadata": {
    "collapsed": false
   }
  },
  {
   "cell_type": "code",
   "execution_count": null,
   "outputs": [],
   "source": [
    "params1 = cv_res.iloc[0, -1]\n",
    "params2 = cv_res.iloc[1, -1]\n",
    "params3 = cv_res.iloc[2, -1]\n",
    "xgb_1 = xgb.XGBRegressor(**params1)\n",
    "xgb_2 = xgb.XGBRegressor(**params2)\n",
    "xgb_3 = xgb.XGBRegressor(**params3)"
   ],
   "metadata": {
    "collapsed": false
   }
  },
  {
   "cell_type": "code",
   "execution_count": null,
   "outputs": [],
   "source": [
    "print(f'params 1 score on oos test: {mean_absolute_percentage_error(xgb_1.predict(X_test), y_test)}')\n",
    "print(f'params 2 score on oos test: {mean_absolute_percentage_error(xgb_2.predict(X_test), y_test)}')\n",
    "print(f'params 3 score on oos test: {mean_absolute_percentage_error(xgb_3.predict(X_test), y_test)}')"
   ],
   "metadata": {
    "collapsed": false
   }
  },
  {
   "cell_type": "code",
   "execution_count": null,
   "outputs": [],
   "source": [
    "params1"
   ],
   "metadata": {
    "collapsed": false
   }
  },
  {
   "cell_type": "code",
   "execution_count": null,
   "outputs": [],
   "source": [
    "params2"
   ],
   "metadata": {
    "collapsed": false
   }
  },
  {
   "cell_type": "code",
   "execution_count": null,
   "outputs": [],
   "source": [
    "params3"
   ],
   "metadata": {
    "collapsed": false
   }
  }
 ],
 "metadata": {
  "kernelspec": {
   "display_name": "Python 3",
   "language": "python",
   "name": "python3"
  },
  "language_info": {
   "codemirror_mode": {
    "name": "ipython",
    "version": 3
   },
   "file_extension": ".py",
   "mimetype": "text/x-python",
   "name": "python",
   "nbconvert_exporter": "python",
   "pygments_lexer": "ipython3",
   "version": "3.8.10"
  }
 },
 "nbformat": 4,
 "nbformat_minor": 0
}
