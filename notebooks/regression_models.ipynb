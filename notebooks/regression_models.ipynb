{
 "cells": [
  {
   "cell_type": "code",
   "execution_count": 1,
   "outputs": [
    {
     "name": "stderr",
     "output_type": "stream",
     "text": [
      "E:\\anaconda\\lib\\site-packages\\xgboost\\compat.py:36: FutureWarning: pandas.Int64Index is deprecated and will be removed from pandas in a future version. Use pandas.Index with the appropriate dtype instead.\n",
      "  from pandas import MultiIndex, Int64Index\n"
     ]
    }
   ],
   "source": [
    "from sklearn.svm import SVR\n",
    "from sklearn.neighbors import KNeighborsRegressor\n",
    "from sklearn.ensemble import RandomForestRegressor\n",
    "import xgboost as xgb\n",
    "from sklearn.model_selection import train_test_split\n",
    "import pandas as pd\n",
    "from sklearn.model_selection import RepeatedKFold\n",
    "from sklearn.metrics import mean_absolute_percentage_error, mean_absolute_error, mean_squared_error\n",
    "from sklearn.impute import KNNImputer\n",
    "from sklearn.preprocessing import RobustScaler\n",
    "from pycaret.regression import setup, compare_models"
   ],
   "metadata": {
    "collapsed": false
   }
  },
  {
   "cell_type": "code",
   "execution_count": 2,
   "outputs": [],
   "source": [
    "df = pd.read_csv('../data/newborn_train.csv')"
   ],
   "metadata": {
    "collapsed": false
   }
  },
  {
   "cell_type": "code",
   "execution_count": 3,
   "outputs": [
    {
     "data": {
      "text/plain": "   mother_body_mass_index  mother_marital_status  mother_delivery_weight  \\\n0                    30.8                    2.0                   220.0   \n1                    45.8                    NaN                   293.0   \n2                     NaN                    1.0                     NaN   \n3                    24.3                    1.0                   157.0   \n4                    24.1                    1.0                   187.0   \n\n   mother_race  mother_height  mother_weight_gain  father_age  \\\n0            1           65.0                35.0        29.0   \n1            1           64.0                26.0        37.0   \n2            1           66.0                 NaN        33.0   \n3            1            NaN                20.0        27.0   \n4            1           65.0                42.0        29.0   \n\n   father_education  cigarettes_before_pregnancy  prenatal_care_month  \\\n0                 6                          0.0                    2   \n1                 4                          0.0                    3   \n2                 6                          0.0                    3   \n3                 6                          0.0                    3   \n4                 8                          0.0                    2   \n\n   number_prenatal_visits previous_cesarean newborn_gender  newborn_weight  \n0                    10.0                 N              F            3045  \n1                    10.0                 N              F            3061  \n2                     NaN                 N              F            3827  \n3                     9.0                 N              M            3997  \n4                    12.0                 N              F            3240  ",
      "text/html": "<div>\n<style scoped>\n    .dataframe tbody tr th:only-of-type {\n        vertical-align: middle;\n    }\n\n    .dataframe tbody tr th {\n        vertical-align: top;\n    }\n\n    .dataframe thead th {\n        text-align: right;\n    }\n</style>\n<table border=\"1\" class=\"dataframe\">\n  <thead>\n    <tr style=\"text-align: right;\">\n      <th></th>\n      <th>mother_body_mass_index</th>\n      <th>mother_marital_status</th>\n      <th>mother_delivery_weight</th>\n      <th>mother_race</th>\n      <th>mother_height</th>\n      <th>mother_weight_gain</th>\n      <th>father_age</th>\n      <th>father_education</th>\n      <th>cigarettes_before_pregnancy</th>\n      <th>prenatal_care_month</th>\n      <th>number_prenatal_visits</th>\n      <th>previous_cesarean</th>\n      <th>newborn_gender</th>\n      <th>newborn_weight</th>\n    </tr>\n  </thead>\n  <tbody>\n    <tr>\n      <th>0</th>\n      <td>30.8</td>\n      <td>2.0</td>\n      <td>220.0</td>\n      <td>1</td>\n      <td>65.0</td>\n      <td>35.0</td>\n      <td>29.0</td>\n      <td>6</td>\n      <td>0.0</td>\n      <td>2</td>\n      <td>10.0</td>\n      <td>N</td>\n      <td>F</td>\n      <td>3045</td>\n    </tr>\n    <tr>\n      <th>1</th>\n      <td>45.8</td>\n      <td>NaN</td>\n      <td>293.0</td>\n      <td>1</td>\n      <td>64.0</td>\n      <td>26.0</td>\n      <td>37.0</td>\n      <td>4</td>\n      <td>0.0</td>\n      <td>3</td>\n      <td>10.0</td>\n      <td>N</td>\n      <td>F</td>\n      <td>3061</td>\n    </tr>\n    <tr>\n      <th>2</th>\n      <td>NaN</td>\n      <td>1.0</td>\n      <td>NaN</td>\n      <td>1</td>\n      <td>66.0</td>\n      <td>NaN</td>\n      <td>33.0</td>\n      <td>6</td>\n      <td>0.0</td>\n      <td>3</td>\n      <td>NaN</td>\n      <td>N</td>\n      <td>F</td>\n      <td>3827</td>\n    </tr>\n    <tr>\n      <th>3</th>\n      <td>24.3</td>\n      <td>1.0</td>\n      <td>157.0</td>\n      <td>1</td>\n      <td>NaN</td>\n      <td>20.0</td>\n      <td>27.0</td>\n      <td>6</td>\n      <td>0.0</td>\n      <td>3</td>\n      <td>9.0</td>\n      <td>N</td>\n      <td>M</td>\n      <td>3997</td>\n    </tr>\n    <tr>\n      <th>4</th>\n      <td>24.1</td>\n      <td>1.0</td>\n      <td>187.0</td>\n      <td>1</td>\n      <td>65.0</td>\n      <td>42.0</td>\n      <td>29.0</td>\n      <td>8</td>\n      <td>0.0</td>\n      <td>2</td>\n      <td>12.0</td>\n      <td>N</td>\n      <td>F</td>\n      <td>3240</td>\n    </tr>\n  </tbody>\n</table>\n</div>"
     },
     "execution_count": 3,
     "metadata": {},
     "output_type": "execute_result"
    }
   ],
   "source": [
    "df.head()"
   ],
   "metadata": {
    "collapsed": false
   }
  },
  {
   "cell_type": "code",
   "execution_count": 4,
   "outputs": [],
   "source": [
    "df.previous_cesarean = df.previous_cesarean.map({'N': 0, 'Y': 1})\n",
    "df.newborn_gender = df.newborn_gender.map({'F': 0, 'M': 1})"
   ],
   "metadata": {
    "collapsed": false
   }
  },
  {
   "cell_type": "code",
   "execution_count": 5,
   "outputs": [],
   "source": [
    "X, y = df.drop(columns='newborn_weight'), df.newborn_weight"
   ],
   "metadata": {
    "collapsed": false
   }
  },
  {
   "cell_type": "code",
   "execution_count": 6,
   "outputs": [
    {
     "ename": "RuntimeError",
     "evalue": "This version of PyCaret requires scikit-learn==0.23.2, got 1.2.2. Support for newer scikit-learn versions will be added in a future release.",
     "output_type": "error",
     "traceback": [
      "\u001B[1;31m---------------------------------------------------------------------------\u001B[0m",
      "\u001B[1;31mRuntimeError\u001B[0m                              Traceback (most recent call last)",
      "Input \u001B[1;32mIn [6]\u001B[0m, in \u001B[0;36m<cell line: 2>\u001B[1;34m()\u001B[0m\n\u001B[0;32m      1\u001B[0m \u001B[38;5;66;03m# make sure you are on pycaret 3.0.2\u001B[39;00m\n\u001B[1;32m----> 2\u001B[0m clf \u001B[38;5;241m=\u001B[39m \u001B[43msetup\u001B[49m\u001B[43m(\u001B[49m\u001B[43mdf\u001B[49m\u001B[43m,\u001B[49m\u001B[43m \u001B[49m\u001B[43mtarget\u001B[49m\u001B[38;5;241;43m=\u001B[39;49m\u001B[38;5;124;43m'\u001B[39;49m\u001B[38;5;124;43mnewborn_weight\u001B[39;49m\u001B[38;5;124;43m'\u001B[39;49m\u001B[43m)\u001B[49m\n\u001B[0;32m      3\u001B[0m compare_models(exclude\u001B[38;5;241m=\u001B[39m[\u001B[38;5;124m'\u001B[39m\u001B[38;5;124momp\u001B[39m\u001B[38;5;124m'\u001B[39m, \u001B[38;5;124m'\u001B[39m\u001B[38;5;124mbr\u001B[39m\u001B[38;5;124m'\u001B[39m, \u001B[38;5;124m'\u001B[39m\u001B[38;5;124mard\u001B[39m\u001B[38;5;124m'\u001B[39m, \u001B[38;5;124m'\u001B[39m\u001B[38;5;124mpar\u001B[39m\u001B[38;5;124m'\u001B[39m, \u001B[38;5;124m'\u001B[39m\u001B[38;5;124mransac\u001B[39m\u001B[38;5;124m'\u001B[39m, \u001B[38;5;124m'\u001B[39m\u001B[38;5;124mtr\u001B[39m\u001B[38;5;124m'\u001B[39m, \u001B[38;5;124m'\u001B[39m\u001B[38;5;124mhuber\u001B[39m\u001B[38;5;124m'\u001B[39m, \u001B[38;5;124m'\u001B[39m\u001B[38;5;124mkr\u001B[39m\u001B[38;5;124m'\u001B[39m, \u001B[38;5;124m'\u001B[39m\u001B[38;5;124msvm\u001B[39m\u001B[38;5;124m'\u001B[39m, \u001B[38;5;124m'\u001B[39m\u001B[38;5;124met\u001B[39m\u001B[38;5;124m'\u001B[39m, \u001B[38;5;124m'\u001B[39m\u001B[38;5;124mmlp\u001B[39m\u001B[38;5;124m'\u001B[39m])\n",
      "File \u001B[1;32m~\\AppData\\Roaming\\Python\\Python38\\site-packages\\pycaret\\regression.py:593\u001B[0m, in \u001B[0;36msetup\u001B[1;34m(data, target, train_size, test_data, preprocess, imputation_type, iterative_imputation_iters, categorical_features, categorical_imputation, categorical_iterative_imputer, ordinal_features, high_cardinality_features, high_cardinality_method, numeric_features, numeric_imputation, numeric_iterative_imputer, date_features, ignore_features, normalize, normalize_method, transformation, transformation_method, handle_unknown_categorical, unknown_categorical_method, pca, pca_method, pca_components, ignore_low_variance, combine_rare_levels, rare_level_threshold, bin_numeric_features, remove_outliers, outliers_threshold, remove_multicollinearity, multicollinearity_threshold, remove_perfect_collinearity, create_clusters, cluster_iter, polynomial_features, polynomial_degree, trigonometry_features, polynomial_threshold, group_features, group_names, feature_selection, feature_selection_threshold, feature_selection_method, feature_interaction, feature_ratio, interaction_threshold, transform_target, transform_target_method, data_split_shuffle, data_split_stratify, fold_strategy, fold, fold_shuffle, fold_groups, n_jobs, use_gpu, custom_pipeline, html, session_id, log_experiment, experiment_name, experiment_custom_tags, log_plots, log_profile, log_data, silent, verbose, profile, profile_kwargs)\u001B[0m\n\u001B[0;32m    590\u001B[0m \u001B[38;5;28;01mif\u001B[39;00m log_plots \u001B[38;5;241m==\u001B[39m \u001B[38;5;28;01mTrue\u001B[39;00m:\n\u001B[0;32m    591\u001B[0m     log_plots \u001B[38;5;241m=\u001B[39m [\u001B[38;5;124m\"\u001B[39m\u001B[38;5;124mresiduals\u001B[39m\u001B[38;5;124m\"\u001B[39m, \u001B[38;5;124m\"\u001B[39m\u001B[38;5;124merror\u001B[39m\u001B[38;5;124m\"\u001B[39m, \u001B[38;5;124m\"\u001B[39m\u001B[38;5;124mfeature\u001B[39m\u001B[38;5;124m\"\u001B[39m]\n\u001B[1;32m--> 593\u001B[0m \u001B[38;5;28;01mreturn\u001B[39;00m \u001B[43mpycaret\u001B[49m\u001B[38;5;241;43m.\u001B[39;49m\u001B[43minternal\u001B[49m\u001B[38;5;241;43m.\u001B[39;49m\u001B[43mtabular\u001B[49m\u001B[38;5;241;43m.\u001B[39;49m\u001B[43msetup\u001B[49m\u001B[43m(\u001B[49m\n\u001B[0;32m    594\u001B[0m \u001B[43m    \u001B[49m\u001B[43mml_usecase\u001B[49m\u001B[38;5;241;43m=\u001B[39;49m\u001B[38;5;124;43m\"\u001B[39;49m\u001B[38;5;124;43mregression\u001B[39;49m\u001B[38;5;124;43m\"\u001B[39;49m\u001B[43m,\u001B[49m\n\u001B[0;32m    595\u001B[0m \u001B[43m    \u001B[49m\u001B[43mavailable_plots\u001B[49m\u001B[38;5;241;43m=\u001B[39;49m\u001B[43mavailable_plots\u001B[49m\u001B[43m,\u001B[49m\n\u001B[0;32m    596\u001B[0m \u001B[43m    \u001B[49m\u001B[43mdata\u001B[49m\u001B[38;5;241;43m=\u001B[39;49m\u001B[43mdata\u001B[49m\u001B[43m,\u001B[49m\n\u001B[0;32m    597\u001B[0m \u001B[43m    \u001B[49m\u001B[43mtarget\u001B[49m\u001B[38;5;241;43m=\u001B[39;49m\u001B[43mtarget\u001B[49m\u001B[43m,\u001B[49m\n\u001B[0;32m    598\u001B[0m \u001B[43m    \u001B[49m\u001B[43mtrain_size\u001B[49m\u001B[38;5;241;43m=\u001B[39;49m\u001B[43mtrain_size\u001B[49m\u001B[43m,\u001B[49m\n\u001B[0;32m    599\u001B[0m \u001B[43m    \u001B[49m\u001B[43mtest_data\u001B[49m\u001B[38;5;241;43m=\u001B[39;49m\u001B[43mtest_data\u001B[49m\u001B[43m,\u001B[49m\n\u001B[0;32m    600\u001B[0m \u001B[43m    \u001B[49m\u001B[43mpreprocess\u001B[49m\u001B[38;5;241;43m=\u001B[39;49m\u001B[43mpreprocess\u001B[49m\u001B[43m,\u001B[49m\n\u001B[0;32m    601\u001B[0m \u001B[43m    \u001B[49m\u001B[43mimputation_type\u001B[49m\u001B[38;5;241;43m=\u001B[39;49m\u001B[43mimputation_type\u001B[49m\u001B[43m,\u001B[49m\n\u001B[0;32m    602\u001B[0m \u001B[43m    \u001B[49m\u001B[43miterative_imputation_iters\u001B[49m\u001B[38;5;241;43m=\u001B[39;49m\u001B[43miterative_imputation_iters\u001B[49m\u001B[43m,\u001B[49m\n\u001B[0;32m    603\u001B[0m \u001B[43m    \u001B[49m\u001B[43mcategorical_features\u001B[49m\u001B[38;5;241;43m=\u001B[39;49m\u001B[43mcategorical_features\u001B[49m\u001B[43m,\u001B[49m\n\u001B[0;32m    604\u001B[0m \u001B[43m    \u001B[49m\u001B[43mcategorical_imputation\u001B[49m\u001B[38;5;241;43m=\u001B[39;49m\u001B[43mcategorical_imputation\u001B[49m\u001B[43m,\u001B[49m\n\u001B[0;32m    605\u001B[0m \u001B[43m    \u001B[49m\u001B[43mcategorical_iterative_imputer\u001B[49m\u001B[38;5;241;43m=\u001B[39;49m\u001B[43mcategorical_iterative_imputer\u001B[49m\u001B[43m,\u001B[49m\n\u001B[0;32m    606\u001B[0m \u001B[43m    \u001B[49m\u001B[43mordinal_features\u001B[49m\u001B[38;5;241;43m=\u001B[39;49m\u001B[43mordinal_features\u001B[49m\u001B[43m,\u001B[49m\n\u001B[0;32m    607\u001B[0m \u001B[43m    \u001B[49m\u001B[43mhigh_cardinality_features\u001B[49m\u001B[38;5;241;43m=\u001B[39;49m\u001B[43mhigh_cardinality_features\u001B[49m\u001B[43m,\u001B[49m\n\u001B[0;32m    608\u001B[0m \u001B[43m    \u001B[49m\u001B[43mhigh_cardinality_method\u001B[49m\u001B[38;5;241;43m=\u001B[39;49m\u001B[43mhigh_cardinality_method\u001B[49m\u001B[43m,\u001B[49m\n\u001B[0;32m    609\u001B[0m \u001B[43m    \u001B[49m\u001B[43mnumeric_features\u001B[49m\u001B[38;5;241;43m=\u001B[39;49m\u001B[43mnumeric_features\u001B[49m\u001B[43m,\u001B[49m\n\u001B[0;32m    610\u001B[0m \u001B[43m    \u001B[49m\u001B[43mnumeric_imputation\u001B[49m\u001B[38;5;241;43m=\u001B[39;49m\u001B[43mnumeric_imputation\u001B[49m\u001B[43m,\u001B[49m\n\u001B[0;32m    611\u001B[0m \u001B[43m    \u001B[49m\u001B[43mnumeric_iterative_imputer\u001B[49m\u001B[38;5;241;43m=\u001B[39;49m\u001B[43mnumeric_iterative_imputer\u001B[49m\u001B[43m,\u001B[49m\n\u001B[0;32m    612\u001B[0m \u001B[43m    \u001B[49m\u001B[43mdate_features\u001B[49m\u001B[38;5;241;43m=\u001B[39;49m\u001B[43mdate_features\u001B[49m\u001B[43m,\u001B[49m\n\u001B[0;32m    613\u001B[0m \u001B[43m    \u001B[49m\u001B[43mignore_features\u001B[49m\u001B[38;5;241;43m=\u001B[39;49m\u001B[43mignore_features\u001B[49m\u001B[43m,\u001B[49m\n\u001B[0;32m    614\u001B[0m \u001B[43m    \u001B[49m\u001B[43mnormalize\u001B[49m\u001B[38;5;241;43m=\u001B[39;49m\u001B[43mnormalize\u001B[49m\u001B[43m,\u001B[49m\n\u001B[0;32m    615\u001B[0m \u001B[43m    \u001B[49m\u001B[43mnormalize_method\u001B[49m\u001B[38;5;241;43m=\u001B[39;49m\u001B[43mnormalize_method\u001B[49m\u001B[43m,\u001B[49m\n\u001B[0;32m    616\u001B[0m \u001B[43m    \u001B[49m\u001B[43mtransformation\u001B[49m\u001B[38;5;241;43m=\u001B[39;49m\u001B[43mtransformation\u001B[49m\u001B[43m,\u001B[49m\n\u001B[0;32m    617\u001B[0m \u001B[43m    \u001B[49m\u001B[43mtransformation_method\u001B[49m\u001B[38;5;241;43m=\u001B[39;49m\u001B[43mtransformation_method\u001B[49m\u001B[43m,\u001B[49m\n\u001B[0;32m    618\u001B[0m \u001B[43m    \u001B[49m\u001B[43mhandle_unknown_categorical\u001B[49m\u001B[38;5;241;43m=\u001B[39;49m\u001B[43mhandle_unknown_categorical\u001B[49m\u001B[43m,\u001B[49m\n\u001B[0;32m    619\u001B[0m \u001B[43m    \u001B[49m\u001B[43munknown_categorical_method\u001B[49m\u001B[38;5;241;43m=\u001B[39;49m\u001B[43munknown_categorical_method\u001B[49m\u001B[43m,\u001B[49m\n\u001B[0;32m    620\u001B[0m \u001B[43m    \u001B[49m\u001B[43mpca\u001B[49m\u001B[38;5;241;43m=\u001B[39;49m\u001B[43mpca\u001B[49m\u001B[43m,\u001B[49m\n\u001B[0;32m    621\u001B[0m \u001B[43m    \u001B[49m\u001B[43mpca_method\u001B[49m\u001B[38;5;241;43m=\u001B[39;49m\u001B[43mpca_method\u001B[49m\u001B[43m,\u001B[49m\n\u001B[0;32m    622\u001B[0m \u001B[43m    \u001B[49m\u001B[43mpca_components\u001B[49m\u001B[38;5;241;43m=\u001B[39;49m\u001B[43mpca_components\u001B[49m\u001B[43m,\u001B[49m\n\u001B[0;32m    623\u001B[0m \u001B[43m    \u001B[49m\u001B[43mignore_low_variance\u001B[49m\u001B[38;5;241;43m=\u001B[39;49m\u001B[43mignore_low_variance\u001B[49m\u001B[43m,\u001B[49m\n\u001B[0;32m    624\u001B[0m \u001B[43m    \u001B[49m\u001B[43mcombine_rare_levels\u001B[49m\u001B[38;5;241;43m=\u001B[39;49m\u001B[43mcombine_rare_levels\u001B[49m\u001B[43m,\u001B[49m\n\u001B[0;32m    625\u001B[0m \u001B[43m    \u001B[49m\u001B[43mrare_level_threshold\u001B[49m\u001B[38;5;241;43m=\u001B[39;49m\u001B[43mrare_level_threshold\u001B[49m\u001B[43m,\u001B[49m\n\u001B[0;32m    626\u001B[0m \u001B[43m    \u001B[49m\u001B[43mbin_numeric_features\u001B[49m\u001B[38;5;241;43m=\u001B[39;49m\u001B[43mbin_numeric_features\u001B[49m\u001B[43m,\u001B[49m\n\u001B[0;32m    627\u001B[0m \u001B[43m    \u001B[49m\u001B[43mremove_outliers\u001B[49m\u001B[38;5;241;43m=\u001B[39;49m\u001B[43mremove_outliers\u001B[49m\u001B[43m,\u001B[49m\n\u001B[0;32m    628\u001B[0m \u001B[43m    \u001B[49m\u001B[43moutliers_threshold\u001B[49m\u001B[38;5;241;43m=\u001B[39;49m\u001B[43moutliers_threshold\u001B[49m\u001B[43m,\u001B[49m\n\u001B[0;32m    629\u001B[0m \u001B[43m    \u001B[49m\u001B[43mremove_multicollinearity\u001B[49m\u001B[38;5;241;43m=\u001B[39;49m\u001B[43mremove_multicollinearity\u001B[49m\u001B[43m,\u001B[49m\n\u001B[0;32m    630\u001B[0m \u001B[43m    \u001B[49m\u001B[43mmulticollinearity_threshold\u001B[49m\u001B[38;5;241;43m=\u001B[39;49m\u001B[43mmulticollinearity_threshold\u001B[49m\u001B[43m,\u001B[49m\n\u001B[0;32m    631\u001B[0m \u001B[43m    \u001B[49m\u001B[43mremove_perfect_collinearity\u001B[49m\u001B[38;5;241;43m=\u001B[39;49m\u001B[43mremove_perfect_collinearity\u001B[49m\u001B[43m,\u001B[49m\n\u001B[0;32m    632\u001B[0m \u001B[43m    \u001B[49m\u001B[43mcreate_clusters\u001B[49m\u001B[38;5;241;43m=\u001B[39;49m\u001B[43mcreate_clusters\u001B[49m\u001B[43m,\u001B[49m\n\u001B[0;32m    633\u001B[0m \u001B[43m    \u001B[49m\u001B[43mcluster_iter\u001B[49m\u001B[38;5;241;43m=\u001B[39;49m\u001B[43mcluster_iter\u001B[49m\u001B[43m,\u001B[49m\n\u001B[0;32m    634\u001B[0m \u001B[43m    \u001B[49m\u001B[43mpolynomial_features\u001B[49m\u001B[38;5;241;43m=\u001B[39;49m\u001B[43mpolynomial_features\u001B[49m\u001B[43m,\u001B[49m\n\u001B[0;32m    635\u001B[0m \u001B[43m    \u001B[49m\u001B[43mpolynomial_degree\u001B[49m\u001B[38;5;241;43m=\u001B[39;49m\u001B[43mpolynomial_degree\u001B[49m\u001B[43m,\u001B[49m\n\u001B[0;32m    636\u001B[0m \u001B[43m    \u001B[49m\u001B[43mtrigonometry_features\u001B[49m\u001B[38;5;241;43m=\u001B[39;49m\u001B[43mtrigonometry_features\u001B[49m\u001B[43m,\u001B[49m\n\u001B[0;32m    637\u001B[0m \u001B[43m    \u001B[49m\u001B[43mpolynomial_threshold\u001B[49m\u001B[38;5;241;43m=\u001B[39;49m\u001B[43mpolynomial_threshold\u001B[49m\u001B[43m,\u001B[49m\n\u001B[0;32m    638\u001B[0m \u001B[43m    \u001B[49m\u001B[43mgroup_features\u001B[49m\u001B[38;5;241;43m=\u001B[39;49m\u001B[43mgroup_features\u001B[49m\u001B[43m,\u001B[49m\n\u001B[0;32m    639\u001B[0m \u001B[43m    \u001B[49m\u001B[43mgroup_names\u001B[49m\u001B[38;5;241;43m=\u001B[39;49m\u001B[43mgroup_names\u001B[49m\u001B[43m,\u001B[49m\n\u001B[0;32m    640\u001B[0m \u001B[43m    \u001B[49m\u001B[43mfeature_selection\u001B[49m\u001B[38;5;241;43m=\u001B[39;49m\u001B[43mfeature_selection\u001B[49m\u001B[43m,\u001B[49m\n\u001B[0;32m    641\u001B[0m \u001B[43m    \u001B[49m\u001B[43mfeature_selection_threshold\u001B[49m\u001B[38;5;241;43m=\u001B[39;49m\u001B[43mfeature_selection_threshold\u001B[49m\u001B[43m,\u001B[49m\n\u001B[0;32m    642\u001B[0m \u001B[43m    \u001B[49m\u001B[43mfeature_selection_method\u001B[49m\u001B[38;5;241;43m=\u001B[39;49m\u001B[43mfeature_selection_method\u001B[49m\u001B[43m,\u001B[49m\n\u001B[0;32m    643\u001B[0m \u001B[43m    \u001B[49m\u001B[43mfeature_interaction\u001B[49m\u001B[38;5;241;43m=\u001B[39;49m\u001B[43mfeature_interaction\u001B[49m\u001B[43m,\u001B[49m\n\u001B[0;32m    644\u001B[0m \u001B[43m    \u001B[49m\u001B[43mfeature_ratio\u001B[49m\u001B[38;5;241;43m=\u001B[39;49m\u001B[43mfeature_ratio\u001B[49m\u001B[43m,\u001B[49m\n\u001B[0;32m    645\u001B[0m \u001B[43m    \u001B[49m\u001B[43minteraction_threshold\u001B[49m\u001B[38;5;241;43m=\u001B[39;49m\u001B[43minteraction_threshold\u001B[49m\u001B[43m,\u001B[49m\n\u001B[0;32m    646\u001B[0m \u001B[43m    \u001B[49m\u001B[43mtransform_target\u001B[49m\u001B[38;5;241;43m=\u001B[39;49m\u001B[43mtransform_target\u001B[49m\u001B[43m,\u001B[49m\n\u001B[0;32m    647\u001B[0m \u001B[43m    \u001B[49m\u001B[43mtransform_target_method\u001B[49m\u001B[38;5;241;43m=\u001B[39;49m\u001B[43mtransform_target_method\u001B[49m\u001B[43m,\u001B[49m\n\u001B[0;32m    648\u001B[0m \u001B[43m    \u001B[49m\u001B[43mdata_split_shuffle\u001B[49m\u001B[38;5;241;43m=\u001B[39;49m\u001B[43mdata_split_shuffle\u001B[49m\u001B[43m,\u001B[49m\n\u001B[0;32m    649\u001B[0m \u001B[43m    \u001B[49m\u001B[43mdata_split_stratify\u001B[49m\u001B[38;5;241;43m=\u001B[39;49m\u001B[43mdata_split_stratify\u001B[49m\u001B[43m,\u001B[49m\n\u001B[0;32m    650\u001B[0m \u001B[43m    \u001B[49m\u001B[43mfold_strategy\u001B[49m\u001B[38;5;241;43m=\u001B[39;49m\u001B[43mfold_strategy\u001B[49m\u001B[43m,\u001B[49m\n\u001B[0;32m    651\u001B[0m \u001B[43m    \u001B[49m\u001B[43mfold\u001B[49m\u001B[38;5;241;43m=\u001B[39;49m\u001B[43mfold\u001B[49m\u001B[43m,\u001B[49m\n\u001B[0;32m    652\u001B[0m \u001B[43m    \u001B[49m\u001B[43mfold_shuffle\u001B[49m\u001B[38;5;241;43m=\u001B[39;49m\u001B[43mfold_shuffle\u001B[49m\u001B[43m,\u001B[49m\n\u001B[0;32m    653\u001B[0m \u001B[43m    \u001B[49m\u001B[43mfold_groups\u001B[49m\u001B[38;5;241;43m=\u001B[39;49m\u001B[43mfold_groups\u001B[49m\u001B[43m,\u001B[49m\n\u001B[0;32m    654\u001B[0m \u001B[43m    \u001B[49m\u001B[43mn_jobs\u001B[49m\u001B[38;5;241;43m=\u001B[39;49m\u001B[43mn_jobs\u001B[49m\u001B[43m,\u001B[49m\n\u001B[0;32m    655\u001B[0m \u001B[43m    \u001B[49m\u001B[43muse_gpu\u001B[49m\u001B[38;5;241;43m=\u001B[39;49m\u001B[43muse_gpu\u001B[49m\u001B[43m,\u001B[49m\n\u001B[0;32m    656\u001B[0m \u001B[43m    \u001B[49m\u001B[43mcustom_pipeline\u001B[49m\u001B[38;5;241;43m=\u001B[39;49m\u001B[43mcustom_pipeline\u001B[49m\u001B[43m,\u001B[49m\n\u001B[0;32m    657\u001B[0m \u001B[43m    \u001B[49m\u001B[43mhtml\u001B[49m\u001B[38;5;241;43m=\u001B[39;49m\u001B[43mhtml\u001B[49m\u001B[43m,\u001B[49m\n\u001B[0;32m    658\u001B[0m \u001B[43m    \u001B[49m\u001B[43msession_id\u001B[49m\u001B[38;5;241;43m=\u001B[39;49m\u001B[43msession_id\u001B[49m\u001B[43m,\u001B[49m\n\u001B[0;32m    659\u001B[0m \u001B[43m    \u001B[49m\u001B[43mlog_experiment\u001B[49m\u001B[38;5;241;43m=\u001B[39;49m\u001B[43mlog_experiment\u001B[49m\u001B[43m,\u001B[49m\n\u001B[0;32m    660\u001B[0m \u001B[43m    \u001B[49m\u001B[43mexperiment_name\u001B[49m\u001B[38;5;241;43m=\u001B[39;49m\u001B[43mexperiment_name\u001B[49m\u001B[43m,\u001B[49m\n\u001B[0;32m    661\u001B[0m \u001B[43m    \u001B[49m\u001B[43mexperiment_custom_tags\u001B[49m\u001B[38;5;241;43m=\u001B[39;49m\u001B[43mexperiment_custom_tags\u001B[49m\u001B[43m,\u001B[49m\n\u001B[0;32m    662\u001B[0m \u001B[43m    \u001B[49m\u001B[43mlog_plots\u001B[49m\u001B[38;5;241;43m=\u001B[39;49m\u001B[43mlog_plots\u001B[49m\u001B[43m,\u001B[49m\n\u001B[0;32m    663\u001B[0m \u001B[43m    \u001B[49m\u001B[43mlog_profile\u001B[49m\u001B[38;5;241;43m=\u001B[39;49m\u001B[43mlog_profile\u001B[49m\u001B[43m,\u001B[49m\n\u001B[0;32m    664\u001B[0m \u001B[43m    \u001B[49m\u001B[43mlog_data\u001B[49m\u001B[38;5;241;43m=\u001B[39;49m\u001B[43mlog_data\u001B[49m\u001B[43m,\u001B[49m\n\u001B[0;32m    665\u001B[0m \u001B[43m    \u001B[49m\u001B[43msilent\u001B[49m\u001B[38;5;241;43m=\u001B[39;49m\u001B[43msilent\u001B[49m\u001B[43m,\u001B[49m\n\u001B[0;32m    666\u001B[0m \u001B[43m    \u001B[49m\u001B[43mverbose\u001B[49m\u001B[38;5;241;43m=\u001B[39;49m\u001B[43mverbose\u001B[49m\u001B[43m,\u001B[49m\n\u001B[0;32m    667\u001B[0m \u001B[43m    \u001B[49m\u001B[43mprofile\u001B[49m\u001B[38;5;241;43m=\u001B[39;49m\u001B[43mprofile\u001B[49m\u001B[43m,\u001B[49m\n\u001B[0;32m    668\u001B[0m \u001B[43m    \u001B[49m\u001B[43mprofile_kwargs\u001B[49m\u001B[38;5;241;43m=\u001B[39;49m\u001B[43mprofile_kwargs\u001B[49m\u001B[43m,\u001B[49m\n\u001B[0;32m    669\u001B[0m \u001B[43m\u001B[49m\u001B[43m)\u001B[49m\n",
      "File \u001B[1;32m~\\AppData\\Roaming\\Python\\Python38\\site-packages\\pycaret\\internal\\tabular.py:268\u001B[0m, in \u001B[0;36msetup\u001B[1;34m(data, target, ml_usecase, available_plots, train_size, test_data, preprocess, imputation_type, iterative_imputation_iters, categorical_features, categorical_imputation, categorical_iterative_imputer, ordinal_features, high_cardinality_features, high_cardinality_method, numeric_features, numeric_imputation, numeric_iterative_imputer, date_features, ignore_features, normalize, normalize_method, transformation, transformation_method, handle_unknown_categorical, unknown_categorical_method, pca, pca_method, pca_components, ignore_low_variance, combine_rare_levels, rare_level_threshold, bin_numeric_features, remove_outliers, outliers_threshold, remove_multicollinearity, multicollinearity_threshold, remove_perfect_collinearity, create_clusters, cluster_iter, polynomial_features, polynomial_degree, trigonometry_features, polynomial_threshold, group_features, group_names, feature_selection, feature_selection_threshold, feature_selection_method, feature_interaction, feature_ratio, interaction_threshold, fix_imbalance, fix_imbalance_method, transform_target, transform_target_method, data_split_shuffle, data_split_stratify, fold_strategy, fold, fold_shuffle, fold_groups, n_jobs, use_gpu, custom_pipeline, html, session_id, log_experiment, experiment_name, experiment_custom_tags, log_plots, log_profile, log_data, silent, verbose, profile, profile_kwargs, display)\u001B[0m\n\u001B[0;32m    265\u001B[0m     logger\u001B[38;5;241m.\u001B[39minfo(\u001B[38;5;124mf\u001B[39m\u001B[38;5;124m\"\u001B[39m\u001B[38;5;124msklearn==\u001B[39m\u001B[38;5;132;01m{\u001B[39;00m__version__\u001B[38;5;132;01m}\u001B[39;00m\u001B[38;5;124m\"\u001B[39m)\n\u001B[0;32m    267\u001B[0m     \u001B[38;5;28;01mif\u001B[39;00m version\u001B[38;5;241m.\u001B[39mparse(__version__) \u001B[38;5;241m!=\u001B[39m version\u001B[38;5;241m.\u001B[39mparse(\u001B[38;5;124m\"\u001B[39m\u001B[38;5;124m0.23.2\u001B[39m\u001B[38;5;124m\"\u001B[39m):\n\u001B[1;32m--> 268\u001B[0m         \u001B[38;5;28;01mraise\u001B[39;00m \u001B[38;5;167;01mRuntimeError\u001B[39;00m(\n\u001B[0;32m    269\u001B[0m             \u001B[38;5;124mf\u001B[39m\u001B[38;5;124m\"\u001B[39m\u001B[38;5;124mThis version of PyCaret requires scikit-learn==0.23.2, got \u001B[39m\u001B[38;5;132;01m{\u001B[39;00m__version__\u001B[38;5;132;01m}\u001B[39;00m\u001B[38;5;124m. Support for newer scikit-learn versions will be added in a future release.\u001B[39m\u001B[38;5;124m\"\u001B[39m\n\u001B[0;32m    270\u001B[0m         )\n\u001B[0;32m    272\u001B[0m \u001B[38;5;28;01mexcept\u001B[39;00m \u001B[38;5;167;01mImportError\u001B[39;00m:\n\u001B[0;32m    273\u001B[0m     logger\u001B[38;5;241m.\u001B[39mwarning(\u001B[38;5;124m\"\u001B[39m\u001B[38;5;124msklearn not found\u001B[39m\u001B[38;5;124m\"\u001B[39m)\n",
      "\u001B[1;31mRuntimeError\u001B[0m: This version of PyCaret requires scikit-learn==0.23.2, got 1.2.2. Support for newer scikit-learn versions will be added in a future release."
     ]
    }
   ],
   "source": [
    "# make sure you are on pycaret 3.0.2\n",
    "clf = setup(df, target='newborn_weight')\n",
    "compare_models(exclude=['omp', 'br', 'ard', 'par', 'ransac', 'tr', 'huber', 'kr', 'svm', 'et', 'mlp'])"
   ],
   "metadata": {
    "collapsed": false
   }
  },
  {
   "cell_type": "code",
   "execution_count": 6,
   "outputs": [],
   "source": [
    "model_lst = [KNeighborsRegressor, RandomForestRegressor, xgb.XGBRegressor]"
   ],
   "metadata": {
    "collapsed": false
   }
  },
  {
   "cell_type": "code",
   "execution_count": 8,
   "outputs": [],
   "source": [
    "mape_dct = {}\n",
    "mae_dct = {}\n",
    "mse_dct = {}\n",
    "rmse_dct = {}\n",
    "for mdl in model_lst:\n",
    "    mape_dct[str(mdl)] = []\n",
    "    mae_dct[str(mdl)] = []\n",
    "    mse_dct[str(mdl)] = []\n",
    "    rmse_dct[str(mdl)] = []"
   ],
   "metadata": {
    "collapsed": false
   }
  },
  {
   "cell_type": "code",
   "execution_count": null,
   "outputs": [
    {
     "name": "stdout",
     "output_type": "stream",
     "text": [
      "split 0\n"
     ]
    }
   ],
   "source": [
    "rkf = RepeatedKFold(random_state=420602)\n",
    "i = 0\n",
    "for train_index, test_index in rkf.split(X, y):\n",
    "    print(f'split {i}')\n",
    "    i += 1\n",
    "    X_train, X_test = X.iloc[train_index], X.iloc[test_index]\n",
    "    y_train, y_test = y.iloc[train_index], y.iloc[test_index]\n",
    "    # imputation goes here\n",
    "    scaler = RobustScaler()\n",
    "    imputer = KNNImputer()\n",
    "    scaler.fit(X_train)\n",
    "    X_train_scaled = scaler.transform(X_train)\n",
    "    imputer.fit(X_train_scaled)\n",
    "    X_train_imputed = imputer.transform(X_train_scaled)\n",
    "    X_test_scaled = scaler.transform(X_test)\n",
    "    X_test_imputed = imputer.transform(X_test_scaled)\n",
    "    # models\n",
    "    for model_base in model_lst:\n",
    "        model = model_base(verbose=1)\n",
    "        model.fit(X_train_imputed, y_train)\n",
    "        pred = model.predict(X_test_imputed)\n",
    "        mape_dct[str(model_base)].append(mean_absolute_percentage_error(y_test, pred))\n",
    "        mae_dct[str(model_base)].append(mean_absolute_error(y_test, pred))\n",
    "        mse_dct[str(model_base)].append(mean_squared_error(y_test, pred))\n",
    "        rmse_dct[str(model_base)].append(mean_squared_error(y_test, pred) ** 0.5)\n",
    "        print(f'finished model {str(model)} for this split')"
   ],
   "metadata": {
    "collapsed": false,
    "pycharm": {
     "is_executing": true
    }
   }
  },
  {
   "cell_type": "code",
   "execution_count": null,
   "outputs": [],
   "source": [],
   "metadata": {
    "collapsed": false
   }
  }
 ],
 "metadata": {
  "kernelspec": {
   "display_name": "Python 3",
   "language": "python",
   "name": "python3"
  },
  "language_info": {
   "codemirror_mode": {
    "name": "ipython",
    "version": 2
   },
   "file_extension": ".py",
   "mimetype": "text/x-python",
   "name": "python",
   "nbconvert_exporter": "python",
   "pygments_lexer": "ipython2",
   "version": "2.7.6"
  }
 },
 "nbformat": 4,
 "nbformat_minor": 0
}
