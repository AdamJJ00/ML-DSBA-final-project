{
 "cells": [
  {
   "cell_type": "code",
   "execution_count": 1,
   "metadata": {
    "tags": []
   },
   "outputs": [],
   "source": [
    "import numpy as np\n",
    "import pandas as pd\n",
    "import xgboost as xgb\n",
    "\n",
    "from sklearn.preprocessing import StandardScaler\n",
    "\n",
    "from sklearn.metrics import accuracy_score, classification_report, balanced_accuracy_score\n",
    "from sklearn.metrics import confusion_matrix, roc_auc_score\n",
    "from category_encoders.cat_boost import CatBoostEncoder"
   ]
  },
  {
   "cell_type": "code",
   "execution_count": 2,
   "metadata": {
    "collapsed": false,
    "jupyter": {
     "outputs_hidden": false
    }
   },
   "outputs": [],
   "source": [
    "df_train = pd.read_csv('../data/client_attrition_train.csv')\n",
    "df_test = pd.read_csv('../data/client_attrition_test.csv')"
   ]
  },
  {
   "cell_type": "code",
   "execution_count": 3,
   "outputs": [],
   "source": [
    "df_train = df_train.drop('customer_id', axis=1)\n",
    "df_test = df_test.drop('customer_id', axis=1)\n",
    "\n",
    "df_train['customer_available_credit_limit_below_1450'] = np.where(df_train['customer_available_credit_limit'] < 1450, 1, 0)\n",
    "df_train['customer_available_credit_limit'] = np.log(df_train['customer_available_credit_limit'])\n",
    "\n",
    "df_test['customer_available_credit_limit_below_1450'] = np.where(df_test['customer_available_credit_limit'] < 1450, 1, 0)\n",
    "df_test['customer_available_credit_limit'] = np.log(df_test['customer_available_credit_limit'])\n",
    "\n",
    "df_train['total_products_0_5'] = np.where(df_train['total_products'] <= 5, 1, 0)\n",
    "df_train['total_products_6_10'] = np.where((df_train['total_products'] > 5) & (df_train['total_products'] <= 10), 1, 0)\n",
    "df_train['total_products_more_than_10'] = np.where(df_train['total_products'] > 10, 1, 0)\n",
    "df_test['total_products_0_5'] = np.where(df_test['total_products'] <= 5, 1, 0)\n",
    "df_test['total_products_6_10'] = np.where((df_test['total_products'] > 5) & (df_test['total_products'] <= 10), 1, 0)\n",
    "df_test['total_products_more_than_10'] = np.where(df_test['total_products'] > 10, 1, 0)\n",
    "\n",
    "df_train['period_inactive_0_3'] = np.where(df_train['period_inactive'] <= 3, 1, 0)\n",
    "df_test['period_inactive_0_3'] = np.where(df_test['period_inactive'] <= 3, 1, 0)\n",
    "\n",
    "df_train['credit_card_debt_balance_0'] = np.where(df_train['credit_card_debt_balance'] == 0, 1, 0)\n",
    "df_test['credit_card_debt_balance_0'] = np.where(df_test['credit_card_debt_balance'] == 0, 1, 0)\n",
    "\n",
    "df_train['remaining_credit_limit'] = np.log(df_train['remaining_credit_limit'])\n",
    "df_test['remaining_credit_limit'] = np.log(df_test['remaining_credit_limit'])\n",
    "\n",
    "df_train['transaction_amount_ratio_0_05'] = np.where(df_train['transaction_amount_ratio'] <= 0.5, 1, 0)\n",
    "df_train['transaction_amount_ratio_05_1'] = np.where(\n",
    "    (df_train['transaction_amount_ratio'] > 0.5) & (df_train['transaction_amount_ratio'] <= 1), 1, 0)\n",
    "df_train['transaction_amount_ratio_1_2'] = np.where(\n",
    "    (df_train['transaction_amount_ratio'] > 1) & (df_train['transaction_amount_ratio'] <= 2), 1, 0)\n",
    "df_train['transaction_amount_ratio_more_than_2'] = np.where(df_train['transaction_amount_ratio'] > 2, 1, 0)\n",
    "df_test['transaction_amount_ratio_0_05'] = np.where(df_test['transaction_amount_ratio'] <= 0.5, 1, 0)\n",
    "df_test['transaction_amount_ratio_05_1'] = np.where(\n",
    "    (df_test['transaction_amount_ratio'] > 0.5) & (df_test['transaction_amount_ratio'] <= 1), 1, 0)\n",
    "df_test['transaction_amount_ratio_1_2'] = np.where(\n",
    "    (df_test['transaction_amount_ratio'] > 1) & (df_test['transaction_amount_ratio'] <= 2), 1, 0)\n",
    "df_test['transaction_amount_ratio_more_than_2'] = np.where(df_test['transaction_amount_ratio'] > 2, 1, 0)\n",
    "df_train['total_transaction_amount'] = np.log(df_train['total_transaction_amount'])\n",
    "\n",
    "df_test['total_transaction_amount'] = np.log(df_test['total_transaction_amount'])\n",
    "df_train['total_transaction_count_0_25'] = np.where(df_train['total_transaction_count'] <= 25, 1, 0)\n",
    "df_train['total_transaction_count_26_50'] = np.where(\n",
    "    (df_train['total_transaction_count'] > 25) & (df_train['total_transaction_count'] <= 50), 1, 0)\n",
    "df_train['total_transaction_count_51_100'] = np.where(\n",
    "    (df_train['total_transaction_count'] > 50) & (df_train['total_transaction_count'] <= 100), 1, 0)\n",
    "df_train['total_transaction_count_more_than_100'] = np.where(df_train['total_transaction_count'] > 100, 1, 0)\n",
    "df_test['total_transaction_count_0_25'] = np.where(df_test['total_transaction_count'] <= 25, 1, 0)\n",
    "df_test['total_transaction_count_26_50'] = np.where(\n",
    "    (df_test['total_transaction_count'] > 25) & (df_test['total_transaction_count'] <= 50), 1, 0)\n",
    "df_test['total_transaction_count_51_100'] = np.where(\n",
    "    (df_test['total_transaction_count'] > 50) & (df_test['total_transaction_count'] <= 100), 1, 0)\n",
    "df_test['total_transaction_count_more_than_100'] = np.where(df_test['total_transaction_count'] > 100, 1, 0)\n",
    "\n",
    "df_train['transaction_count_ratio_0_05'] = np.where(df_train['transaction_count_ratio'] <= 0.5, 1, 0)\n",
    "df_train['transaction_count_ratio_05_1'] = np.where(\n",
    "    (df_train['transaction_count_ratio'] > 0.5) & (df_train['transaction_count_ratio'] <= 1), 1, 0)\n",
    "df_train['transaction_count_ratio_1_2'] = np.where(\n",
    "    (df_train['transaction_count_ratio'] > 1) & (df_train['transaction_count_ratio'] <= 2), 1, 0)\n",
    "df_train['transaction_count_ratio_more_than_2'] = np.where(df_train['transaction_count_ratio'] > 2, 1, 0)\n",
    "df_test['transaction_count_ratio_0_05'] = np.where(df_test['transaction_count_ratio'] <= 0.5, 1, 0)\n",
    "df_test['transaction_count_ratio_05_1'] = np.where(\n",
    "    (df_test['transaction_count_ratio'] > 0.5) & (df_test['transaction_count_ratio'] <= 1), 1, 0)\n",
    "df_test['transaction_count_ratio_1_2'] = np.where(\n",
    "    (df_test['transaction_count_ratio'] > 1) & (df_test['transaction_count_ratio'] <= 2), 1, 0)\n",
    "df_test['transaction_count_ratio_more_than_2'] = np.where(df_test['transaction_count_ratio'] > 2, 1, 0)\n",
    "\n",
    "df_train['average_utilization_0_02'] = np.where(df_train['average_utilization'] <= 0.2, 1, 0)\n",
    "df_train['average_utilization_02_06'] = np.where(\n",
    "    (df_train['average_utilization'] > 0.2) & (df_train['average_utilization'] <= 0.6), 1, 0)\n",
    "df_train['average_utilization_more_than_06'] = np.where(df_train['average_utilization'] > 0.6, 1, 0)\n",
    "df_test['average_utilization_0_02'] = np.where(df_test['average_utilization'] <= 0.2, 1, 0)\n",
    "df_test['average_utilization_02_06'] = np.where(\n",
    "    (df_test['average_utilization'] > 0.2) & (df_test['average_utilization'] <= 0.6), 1, 0)\n",
    "df_test['average_utilization_more_than_06'] = np.where(df_test['average_utilization'] > 0.6, 1, 0)"
   ],
   "metadata": {
    "collapsed": false
   }
  },
  {
   "cell_type": "code",
   "execution_count": 4,
   "outputs": [],
   "source": [
    "cb_encoder = CatBoostEncoder()\n",
    "cols_to_be_encoded = ['customer_sex', 'customer_education', 'customer_civil_status', 'customer_salary_range',\n",
    "                      'credit_card_classification']\n",
    "\n",
    "df_train['y'] = df_train.account_status.map({'open': 0, 'closed': 1})\n",
    "features_train = df_train.drop(columns=['account_status', 'y'])\n",
    "\n",
    "cb_encoder.fit(X=features_train, y=df_train['y'], cols=cols_to_be_encoded, handle_missing='return_nan')\n",
    "df_train_encoded = cb_encoder.transform(features_train)\n",
    "\n",
    "df_train = pd.concat([df_train_encoded, df_train['y']], axis=1)\n",
    "df_test = cb_encoder.transform(df_test)"
   ],
   "metadata": {
    "collapsed": false
   }
  },
  {
   "cell_type": "code",
   "execution_count": 5,
   "outputs": [],
   "source": [
    "X_train, y_train = df_train.drop(columns='y'), df_train.y\n",
    "X_test = df_test"
   ],
   "metadata": {
    "collapsed": false
   }
  },
  {
   "cell_type": "code",
   "execution_count": 6,
   "outputs": [],
   "source": [
    "std = StandardScaler()\n",
    "num_col = ['customer_age',\n",
    " 'customer_number_of_dependents',\n",
    " 'customer_relationship_length',\n",
    " 'customer_available_credit_limit',\n",
    " 'total_products',\n",
    " 'period_inactive',\n",
    " 'contacts_in_last_year',\n",
    " 'credit_card_debt_balance',\n",
    " 'remaining_credit_limit',\n",
    " 'transaction_amount_ratio',\n",
    " 'total_transaction_amount',\n",
    " 'total_transaction_count',\n",
    " 'transaction_count_ratio',\n",
    " 'average_utilization']\n",
    "arr = std.fit_transform(X_train[num_col])\n",
    "arr = pd.DataFrame(arr, columns = num_col)\n",
    "X_train = X_train.reset_index(drop=True)\n",
    "X_train.drop(num_col, axis=1, inplace=True)\n",
    "X_train = pd.concat([X_train, arr], axis=1)"
   ],
   "metadata": {
    "collapsed": false
   }
  },
  {
   "cell_type": "code",
   "execution_count": 7,
   "outputs": [
    {
     "data": {
      "text/plain": "   customer_sex  customer_education  customer_civil_status  \\\n0      0.146807            0.152032               0.151271   \n1      0.146807            0.152016               0.151271   \n2      0.171970            0.159382               0.151271   \n3      0.171970            0.155692               0.151271   \n4      0.146807            0.155692               0.151271   \n\n   customer_salary_range  credit_card_classification  \\\n0               0.169894                    0.160979   \n1               0.135196                    0.160979   \n2               0.171022                    0.160979   \n3               0.171022                    0.160979   \n4               0.171022                    0.160979   \n\n   customer_available_credit_limit_below_1450  total_products_0_5  \\\n0                                           0                   1   \n1                                           0                   1   \n2                                           0                   1   \n3                                           0                   0   \n4                                           0                   0   \n\n   total_products_6_10  total_products_more_than_10  period_inactive_0_3  ...  \\\n0                    0                            0                    1  ...   \n1                    0                            0                    1  ...   \n2                    0                            0                    1  ...   \n3                    1                            0                    1  ...   \n4                    1                            0                    1  ...   \n\n   total_products  period_inactive  contacts_in_last_year  \\\n0       -0.988694        -0.337598              -1.315636   \n1       -0.046282        -1.327136              -0.411616   \n2       -0.674557        -1.327136              -0.411616   \n3        0.581993        -1.327136              -0.411616   \n4        0.581993        -0.337598              -0.411616   \n\n   credit_card_debt_balance  remaining_credit_limit  transaction_amount_ratio  \\\n0                  0.556092                1.653133                 -0.116365   \n1                 -0.847680                0.350713                 -0.724365   \n2                 -0.196104               -1.022030                 -0.227346   \n3                  0.272638               -0.538808                 -0.243541   \n4                  0.649350                1.391418                 -0.086054   \n\n   total_transaction_amount  total_transaction_count  transaction_count_ratio  \\\n0                  0.876686                 0.815516                -0.314313   \n1                 -0.571729                -0.462635                -0.099894   \n2                  2.973127                 0.517281                 0.057328   \n3                  0.284557                 0.517281                -0.455532   \n4                 -0.048361                 0.261650                -0.133067   \n\n   average_utilization  \n0            -0.804778  \n1            -0.815290  \n2             0.912837  \n3             0.701950  \n4            -0.738717  \n\n[5 rows x 40 columns]",
      "text/html": "<div>\n<style scoped>\n    .dataframe tbody tr th:only-of-type {\n        vertical-align: middle;\n    }\n\n    .dataframe tbody tr th {\n        vertical-align: top;\n    }\n\n    .dataframe thead th {\n        text-align: right;\n    }\n</style>\n<table border=\"1\" class=\"dataframe\">\n  <thead>\n    <tr style=\"text-align: right;\">\n      <th></th>\n      <th>customer_sex</th>\n      <th>customer_education</th>\n      <th>customer_civil_status</th>\n      <th>customer_salary_range</th>\n      <th>credit_card_classification</th>\n      <th>customer_available_credit_limit_below_1450</th>\n      <th>total_products_0_5</th>\n      <th>total_products_6_10</th>\n      <th>total_products_more_than_10</th>\n      <th>period_inactive_0_3</th>\n      <th>...</th>\n      <th>total_products</th>\n      <th>period_inactive</th>\n      <th>contacts_in_last_year</th>\n      <th>credit_card_debt_balance</th>\n      <th>remaining_credit_limit</th>\n      <th>transaction_amount_ratio</th>\n      <th>total_transaction_amount</th>\n      <th>total_transaction_count</th>\n      <th>transaction_count_ratio</th>\n      <th>average_utilization</th>\n    </tr>\n  </thead>\n  <tbody>\n    <tr>\n      <th>0</th>\n      <td>0.146807</td>\n      <td>0.152032</td>\n      <td>0.151271</td>\n      <td>0.169894</td>\n      <td>0.160979</td>\n      <td>0</td>\n      <td>1</td>\n      <td>0</td>\n      <td>0</td>\n      <td>1</td>\n      <td>...</td>\n      <td>-0.988694</td>\n      <td>-0.337598</td>\n      <td>-1.315636</td>\n      <td>0.556092</td>\n      <td>1.653133</td>\n      <td>-0.116365</td>\n      <td>0.876686</td>\n      <td>0.815516</td>\n      <td>-0.314313</td>\n      <td>-0.804778</td>\n    </tr>\n    <tr>\n      <th>1</th>\n      <td>0.146807</td>\n      <td>0.152016</td>\n      <td>0.151271</td>\n      <td>0.135196</td>\n      <td>0.160979</td>\n      <td>0</td>\n      <td>1</td>\n      <td>0</td>\n      <td>0</td>\n      <td>1</td>\n      <td>...</td>\n      <td>-0.046282</td>\n      <td>-1.327136</td>\n      <td>-0.411616</td>\n      <td>-0.847680</td>\n      <td>0.350713</td>\n      <td>-0.724365</td>\n      <td>-0.571729</td>\n      <td>-0.462635</td>\n      <td>-0.099894</td>\n      <td>-0.815290</td>\n    </tr>\n    <tr>\n      <th>2</th>\n      <td>0.171970</td>\n      <td>0.159382</td>\n      <td>0.151271</td>\n      <td>0.171022</td>\n      <td>0.160979</td>\n      <td>0</td>\n      <td>1</td>\n      <td>0</td>\n      <td>0</td>\n      <td>1</td>\n      <td>...</td>\n      <td>-0.674557</td>\n      <td>-1.327136</td>\n      <td>-0.411616</td>\n      <td>-0.196104</td>\n      <td>-1.022030</td>\n      <td>-0.227346</td>\n      <td>2.973127</td>\n      <td>0.517281</td>\n      <td>0.057328</td>\n      <td>0.912837</td>\n    </tr>\n    <tr>\n      <th>3</th>\n      <td>0.171970</td>\n      <td>0.155692</td>\n      <td>0.151271</td>\n      <td>0.171022</td>\n      <td>0.160979</td>\n      <td>0</td>\n      <td>0</td>\n      <td>1</td>\n      <td>0</td>\n      <td>1</td>\n      <td>...</td>\n      <td>0.581993</td>\n      <td>-1.327136</td>\n      <td>-0.411616</td>\n      <td>0.272638</td>\n      <td>-0.538808</td>\n      <td>-0.243541</td>\n      <td>0.284557</td>\n      <td>0.517281</td>\n      <td>-0.455532</td>\n      <td>0.701950</td>\n    </tr>\n    <tr>\n      <th>4</th>\n      <td>0.146807</td>\n      <td>0.155692</td>\n      <td>0.151271</td>\n      <td>0.171022</td>\n      <td>0.160979</td>\n      <td>0</td>\n      <td>0</td>\n      <td>1</td>\n      <td>0</td>\n      <td>1</td>\n      <td>...</td>\n      <td>0.581993</td>\n      <td>-0.337598</td>\n      <td>-0.411616</td>\n      <td>0.649350</td>\n      <td>1.391418</td>\n      <td>-0.086054</td>\n      <td>-0.048361</td>\n      <td>0.261650</td>\n      <td>-0.133067</td>\n      <td>-0.738717</td>\n    </tr>\n  </tbody>\n</table>\n<p>5 rows × 40 columns</p>\n</div>"
     },
     "execution_count": 7,
     "metadata": {},
     "output_type": "execute_result"
    }
   ],
   "source": [
    "arr1 = std.transform(X_test[num_col])\n",
    "arr1 = pd.DataFrame(arr1, columns = num_col)\n",
    "X_test = X_test.reset_index(drop=True)\n",
    "X_test.drop(num_col, axis=1, inplace=True)\n",
    "X_test = pd.concat([X_test, arr1], axis=1)\n",
    "X_test.head()"
   ],
   "metadata": {
    "collapsed": false
   }
  },
  {
   "cell_type": "code",
   "execution_count": 8,
   "outputs": [],
   "source": [
    "selected_features = ['total_transaction_amount', 'total_transaction_count', 'transaction_amount_ratio', 'credit_card_debt_balance', 'total_products', 'transaction_count_ratio', 'customer_age', 'contacts_in_last_year', 'period_inactive', 'credit_card_debt_balance_0', 'period_inactive_0_3', 'total_products_0_5', 'total_products_more_than_10', 'total_transaction_count_0_25', 'total_transaction_count_more_than_100', 'transaction_amount_ratio_0_05', 'transaction_amount_ratio_1_2', 'transaction_amount_ratio_more_than_2', 'transaction_count_ratio_0_05', 'transaction_count_ratio_more_than_2', 'customer_relationship_length', 'average_utilization_0_02', 'customer_civil_status', 'total_transaction_count_51_100', 'average_utilization_02_06', 'transaction_amount_ratio_05_1', 'remaining_credit_limit', 'average_utilization_more_than_06', 'total_transaction_count_26_50', 'customer_sex', 'credit_card_classification', 'transaction_count_ratio_1_2', 'average_utilization', 'transaction_count_ratio_05_1', 'customer_number_of_dependents', 'customer_salary_range', 'customer_education', 'customer_available_credit_limit', 'customer_available_credit_limit_below_1450', 'total_products_6_10']\n",
    "\n",
    "X_train_final = X_train[selected_features]\n",
    "X_test_final = X_test[selected_features]"
   ],
   "metadata": {
    "collapsed": false
   }
  },
  {
   "cell_type": "code",
   "execution_count": 9,
   "outputs": [
    {
     "name": "stdout",
     "output_type": "stream",
     "text": [
      "Train confusion Matrix:\n",
      " [[8247  253]\n",
      " [  21 1606]]\n",
      "\n",
      "\n",
      "Train accuracy of the model: 97.2943616075837\n",
      "\n",
      "\n",
      "Train classification report:\n",
      "               precision    recall  f1-score   support\n",
      "\n",
      "           0       1.00      0.97      0.98      8500\n",
      "           1       0.86      0.99      0.92      1627\n",
      "\n",
      "    accuracy                           0.97     10127\n",
      "   macro avg       0.93      0.98      0.95     10127\n",
      "weighted avg       0.98      0.97      0.97     10127\n",
      "\n",
      "Train AUC of the model: 0.9975977439531436\n",
      "Train balanced accuracy of the model: 0.9786640514841463\n"
     ]
    }
   ],
   "source": [
    "scale_pos_weight = (y_train.shape[0] - y_train.sum()) / y_train.sum()\n",
    "\n",
    "model = xgb.XGBClassifier(subsample = 0.9, n_estimators = 200,\n",
    "                        max_depth = 4, learning_rate = 0.07,\n",
    "                        colsample_bytree = 0.8, colsample_bylevel = 0.7,\n",
    "                        objective='binary:logistic', eval_metric='aucpr', scale_pos_weight=scale_pos_weight)\n",
    "model.fit(X_train_final, y_train)\n",
    "\n",
    "y_pred_train = model.predict_proba(X_train_final)[:, 1]\n",
    "y_pr_train = model.predict(X_train_final)\n",
    "acc_train = accuracy_score(y_train,y_pr_train)\n",
    "class_re = classification_report(y_train,y_pr_train)\n",
    "con_mat = confusion_matrix(y_train,y_pr_train)\n",
    "auc_train = roc_auc_score(y_train, y_pred_train)\n",
    "balanced_accuracy_train = balanced_accuracy_score(y_train, y_pr_train)\n",
    "print(\"Train confusion Matrix:\\n\",con_mat)\n",
    "print(\"\\n\")\n",
    "print(\"Train accuracy of the model:\",(acc_train)*100)\n",
    "print(\"\\n\")\n",
    "print(\"Train classification report:\\n\",class_re)\n",
    "print(\"Train AUC of the model:\",auc_train)\n",
    "print(\"Train balanced accuracy of the model:\", balanced_accuracy_train)"
   ],
   "metadata": {
    "collapsed": false
   }
  },
  {
   "cell_type": "code",
   "execution_count": 10,
   "metadata": {
    "collapsed": false,
    "jupyter": {
     "outputs_hidden": false
    }
   },
   "outputs": [],
   "source": [
    "preds = model.predict(X_test_final)"
   ]
  },
  {
   "cell_type": "code",
   "execution_count": 11,
   "outputs": [
    {
     "data": {
      "text/plain": "array([0, 1, 0, ..., 0, 0, 1])"
     },
     "execution_count": 11,
     "metadata": {},
     "output_type": "execute_result"
    }
   ],
   "source": [
    "preds"
   ],
   "metadata": {
    "collapsed": false
   }
  },
  {
   "cell_type": "code",
   "execution_count": 12,
   "metadata": {},
   "outputs": [],
   "source": [
    "pd.DataFrame(preds).to_csv('../data/client_attrition_test_preds.csv')"
   ]
  }
 ],
 "metadata": {
  "kernelspec": {
   "display_name": "Python 3",
   "language": "python",
   "name": "python3"
  },
  "language_info": {
   "codemirror_mode": {
    "name": "ipython",
    "version": 3
   },
   "file_extension": ".py",
   "mimetype": "text/x-python",
   "name": "python",
   "nbconvert_exporter": "python",
   "pygments_lexer": "ipython3",
   "version": "3.8.10"
  }
 },
 "nbformat": 4,
 "nbformat_minor": 0
}
