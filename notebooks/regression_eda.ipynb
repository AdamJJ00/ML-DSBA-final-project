{
 "cells": [
  {
   "cell_type": "code",
   "execution_count": 6,
   "metadata": {
    "collapsed": true,
    "pycharm": {
     "name": "#%%\n"
    }
   },
   "outputs": [],
   "source": [
    "import pandas as pd\n",
    "from ydata_profiling import ProfileReport"
   ]
  },
  {
   "cell_type": "code",
   "execution_count": 7,
   "outputs": [],
   "source": [
    "df = pd.read_csv('../data/newborn_train.csv')"
   ],
   "metadata": {
    "collapsed": false,
    "pycharm": {
     "name": "#%%\n"
    }
   }
  },
  {
   "cell_type": "code",
   "execution_count": 8,
   "outputs": [
    {
     "data": {
      "text/plain": "         mother_body_mass_index  mother_marital_status  \\\n0                          30.8                    2.0   \n1                          45.8                    NaN   \n2                           NaN                    1.0   \n3                          24.3                    1.0   \n4                          24.1                    1.0   \n...                         ...                    ...   \n2398111                    22.1                    1.0   \n2398112                    34.0                    2.0   \n2398113                    24.6                    1.0   \n2398114                    26.1                    NaN   \n2398115                    23.0                    1.0   \n\n         mother_delivery_weight  mother_race  mother_height  \\\n0                         220.0            1           65.0   \n1                         293.0            1           64.0   \n2                           NaN            1           66.0   \n3                         157.0            1            NaN   \n4                         187.0            1           65.0   \n...                         ...          ...            ...   \n2398111                   152.0            1           63.0   \n2398112                   260.0            2           71.0   \n2398113                   157.0            1            NaN   \n2398114                   185.0            1           61.0   \n2398115                   172.0            4           63.0   \n\n         mother_weight_gain  father_age  father_education  \\\n0                      35.0        29.0                 6   \n1                      26.0        37.0                 4   \n2                       NaN        33.0                 6   \n3                      20.0        27.0                 6   \n4                      42.0        29.0                 8   \n...                     ...         ...               ...   \n2398111                27.0         NaN                 4   \n2398112                16.0        33.0                 3   \n2398113                18.0        26.0                 4   \n2398114                47.0        31.0                 1   \n2398115                42.0        43.0                 6   \n\n         cigarettes_before_pregnancy  prenatal_care_month  \\\n0                                0.0                    2   \n1                                0.0                    3   \n2                                0.0                    3   \n3                                0.0                    3   \n4                                0.0                    2   \n...                              ...                  ...   \n2398111                          0.0                    4   \n2398112                          0.0                    1   \n2398113                          0.0                    3   \n2398114                          0.0                    2   \n2398115                          0.0                    5   \n\n         number_prenatal_visits previous_cesarean newborn_gender  \\\n0                          10.0                 N              F   \n1                          10.0                 N              F   \n2                           NaN                 N              F   \n3                           9.0                 N              M   \n4                          12.0                 N              F   \n...                         ...               ...            ...   \n2398111                     5.0                 N              M   \n2398112                    13.0                 N              M   \n2398113                    15.0                 N              F   \n2398114                    15.0                 N              M   \n2398115                     9.0                 Y              M   \n\n         newborn_weight  \n0                  3045  \n1                  3061  \n2                  3827  \n3                  3997  \n4                  3240  \n...                 ...  \n2398111            3015  \n2398112            3572  \n2398113            3299  \n2398114            3062  \n2398115            3660  \n\n[2398116 rows x 14 columns]",
      "text/html": "<div>\n<style scoped>\n    .dataframe tbody tr th:only-of-type {\n        vertical-align: middle;\n    }\n\n    .dataframe tbody tr th {\n        vertical-align: top;\n    }\n\n    .dataframe thead th {\n        text-align: right;\n    }\n</style>\n<table border=\"1\" class=\"dataframe\">\n  <thead>\n    <tr style=\"text-align: right;\">\n      <th></th>\n      <th>mother_body_mass_index</th>\n      <th>mother_marital_status</th>\n      <th>mother_delivery_weight</th>\n      <th>mother_race</th>\n      <th>mother_height</th>\n      <th>mother_weight_gain</th>\n      <th>father_age</th>\n      <th>father_education</th>\n      <th>cigarettes_before_pregnancy</th>\n      <th>prenatal_care_month</th>\n      <th>number_prenatal_visits</th>\n      <th>previous_cesarean</th>\n      <th>newborn_gender</th>\n      <th>newborn_weight</th>\n    </tr>\n  </thead>\n  <tbody>\n    <tr>\n      <th>0</th>\n      <td>30.8</td>\n      <td>2.0</td>\n      <td>220.0</td>\n      <td>1</td>\n      <td>65.0</td>\n      <td>35.0</td>\n      <td>29.0</td>\n      <td>6</td>\n      <td>0.0</td>\n      <td>2</td>\n      <td>10.0</td>\n      <td>N</td>\n      <td>F</td>\n      <td>3045</td>\n    </tr>\n    <tr>\n      <th>1</th>\n      <td>45.8</td>\n      <td>NaN</td>\n      <td>293.0</td>\n      <td>1</td>\n      <td>64.0</td>\n      <td>26.0</td>\n      <td>37.0</td>\n      <td>4</td>\n      <td>0.0</td>\n      <td>3</td>\n      <td>10.0</td>\n      <td>N</td>\n      <td>F</td>\n      <td>3061</td>\n    </tr>\n    <tr>\n      <th>2</th>\n      <td>NaN</td>\n      <td>1.0</td>\n      <td>NaN</td>\n      <td>1</td>\n      <td>66.0</td>\n      <td>NaN</td>\n      <td>33.0</td>\n      <td>6</td>\n      <td>0.0</td>\n      <td>3</td>\n      <td>NaN</td>\n      <td>N</td>\n      <td>F</td>\n      <td>3827</td>\n    </tr>\n    <tr>\n      <th>3</th>\n      <td>24.3</td>\n      <td>1.0</td>\n      <td>157.0</td>\n      <td>1</td>\n      <td>NaN</td>\n      <td>20.0</td>\n      <td>27.0</td>\n      <td>6</td>\n      <td>0.0</td>\n      <td>3</td>\n      <td>9.0</td>\n      <td>N</td>\n      <td>M</td>\n      <td>3997</td>\n    </tr>\n    <tr>\n      <th>4</th>\n      <td>24.1</td>\n      <td>1.0</td>\n      <td>187.0</td>\n      <td>1</td>\n      <td>65.0</td>\n      <td>42.0</td>\n      <td>29.0</td>\n      <td>8</td>\n      <td>0.0</td>\n      <td>2</td>\n      <td>12.0</td>\n      <td>N</td>\n      <td>F</td>\n      <td>3240</td>\n    </tr>\n    <tr>\n      <th>...</th>\n      <td>...</td>\n      <td>...</td>\n      <td>...</td>\n      <td>...</td>\n      <td>...</td>\n      <td>...</td>\n      <td>...</td>\n      <td>...</td>\n      <td>...</td>\n      <td>...</td>\n      <td>...</td>\n      <td>...</td>\n      <td>...</td>\n      <td>...</td>\n    </tr>\n    <tr>\n      <th>2398111</th>\n      <td>22.1</td>\n      <td>1.0</td>\n      <td>152.0</td>\n      <td>1</td>\n      <td>63.0</td>\n      <td>27.0</td>\n      <td>NaN</td>\n      <td>4</td>\n      <td>0.0</td>\n      <td>4</td>\n      <td>5.0</td>\n      <td>N</td>\n      <td>M</td>\n      <td>3015</td>\n    </tr>\n    <tr>\n      <th>2398112</th>\n      <td>34.0</td>\n      <td>2.0</td>\n      <td>260.0</td>\n      <td>2</td>\n      <td>71.0</td>\n      <td>16.0</td>\n      <td>33.0</td>\n      <td>3</td>\n      <td>0.0</td>\n      <td>1</td>\n      <td>13.0</td>\n      <td>N</td>\n      <td>M</td>\n      <td>3572</td>\n    </tr>\n    <tr>\n      <th>2398113</th>\n      <td>24.6</td>\n      <td>1.0</td>\n      <td>157.0</td>\n      <td>1</td>\n      <td>NaN</td>\n      <td>18.0</td>\n      <td>26.0</td>\n      <td>4</td>\n      <td>0.0</td>\n      <td>3</td>\n      <td>15.0</td>\n      <td>N</td>\n      <td>F</td>\n      <td>3299</td>\n    </tr>\n    <tr>\n      <th>2398114</th>\n      <td>26.1</td>\n      <td>NaN</td>\n      <td>185.0</td>\n      <td>1</td>\n      <td>61.0</td>\n      <td>47.0</td>\n      <td>31.0</td>\n      <td>1</td>\n      <td>0.0</td>\n      <td>2</td>\n      <td>15.0</td>\n      <td>N</td>\n      <td>M</td>\n      <td>3062</td>\n    </tr>\n    <tr>\n      <th>2398115</th>\n      <td>23.0</td>\n      <td>1.0</td>\n      <td>172.0</td>\n      <td>4</td>\n      <td>63.0</td>\n      <td>42.0</td>\n      <td>43.0</td>\n      <td>6</td>\n      <td>0.0</td>\n      <td>5</td>\n      <td>9.0</td>\n      <td>Y</td>\n      <td>M</td>\n      <td>3660</td>\n    </tr>\n  </tbody>\n</table>\n<p>2398116 rows × 14 columns</p>\n</div>"
     },
     "execution_count": 8,
     "metadata": {},
     "output_type": "execute_result"
    }
   ],
   "source": [
    "df"
   ],
   "metadata": {
    "collapsed": false,
    "pycharm": {
     "name": "#%%\n"
    }
   }
  },
  {
   "cell_type": "code",
   "execution_count": 9,
   "outputs": [],
   "source": [
    "profile = ProfileReport(df, title=\"Profiling Report\")"
   ],
   "metadata": {
    "collapsed": false,
    "pycharm": {
     "name": "#%%\n"
    }
   }
  },
  {
   "cell_type": "code",
   "execution_count": 10,
   "outputs": [
    {
     "data": {
      "text/plain": "Summarize dataset:   0%|          | 0/5 [00:00<?, ?it/s]",
      "application/vnd.jupyter.widget-view+json": {
       "version_major": 2,
       "version_minor": 0,
       "model_id": "2735b8d1bc9b4b098169919bac03da32"
      }
     },
     "metadata": {},
     "output_type": "display_data"
    },
    {
     "data": {
      "text/plain": "Generate report structure:   0%|          | 0/1 [00:00<?, ?it/s]",
      "application/vnd.jupyter.widget-view+json": {
       "version_major": 2,
       "version_minor": 0,
       "model_id": "a2d00f3782a349ef9676f0e0dce1b3ad"
      }
     },
     "metadata": {},
     "output_type": "display_data"
    },
    {
     "data": {
      "text/plain": "Render HTML:   0%|          | 0/1 [00:00<?, ?it/s]",
      "application/vnd.jupyter.widget-view+json": {
       "version_major": 2,
       "version_minor": 0,
       "model_id": "953ac870f1774859a87c821f6db3f263"
      }
     },
     "metadata": {},
     "output_type": "display_data"
    },
    {
     "data": {
      "text/plain": "Export report to file:   0%|          | 0/1 [00:00<?, ?it/s]",
      "application/vnd.jupyter.widget-view+json": {
       "version_major": 2,
       "version_minor": 0,
       "model_id": "267cc0207bb842afbfcc6eeb2b8f6c51"
      }
     },
     "metadata": {},
     "output_type": "display_data"
    }
   ],
   "source": [
    "profile.to_file(\"regression_profile_report.html\")"
   ],
   "metadata": {
    "collapsed": false,
    "pycharm": {
     "name": "#%%\n"
    }
   }
  }
 ],
 "metadata": {
  "kernelspec": {
   "display_name": "Python 3",
   "language": "python",
   "name": "python3"
  },
  "language_info": {
   "codemirror_mode": {
    "name": "ipython",
    "version": 2
   },
   "file_extension": ".py",
   "mimetype": "text/x-python",
   "name": "python",
   "nbconvert_exporter": "python",
   "pygments_lexer": "ipython2",
   "version": "2.7.6"
  }
 },
 "nbformat": 4,
 "nbformat_minor": 0
}