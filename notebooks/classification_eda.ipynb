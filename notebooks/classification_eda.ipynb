{
 "cells": [
  {
   "cell_type": "code",
   "execution_count": 73,
   "metadata": {
    "collapsed": true,
    "pycharm": {
     "name": "#%%\n"
    }
   },
   "outputs": [],
   "source": [
    "import pandas as pd\n",
    "from ydata_profiling import ProfileReport\n",
    "from category_encoders.cat_boost import CatBoostEncoder\n",
    "import numpy as np\n",
    "import seaborn as sns\n",
    "import matplotlib.pyplot as plt"
   ]
  },
  {
   "cell_type": "code",
   "execution_count": 3,
   "outputs": [],
   "source": [
    "df = pd.read_csv('../data/client_attrition_train.csv')"
   ],
   "metadata": {
    "collapsed": false,
    "pycharm": {
     "name": "#%%\n"
    }
   }
  },
  {
   "cell_type": "code",
   "execution_count": 4,
   "outputs": [
    {
     "data": {
      "text/plain": "       customer_id  customer_age customer_sex  customer_number_of_dependents  \\\n0           755410          38.0            F                              2   \n1           568093          46.0            F                              2   \n2           595389          43.0            M                              1   \n3           287252          46.0            F                              4   \n4           231901          40.0            M                              4   \n...            ...           ...          ...                            ...   \n10122       435491           NaN            F                              2   \n10123       136052          46.0            F                              4   \n10124       336583          44.0            M                              0   \n10125       817129          39.0            F                              5   \n10126       404120          35.0            M                              2   \n\n      customer_education customer_civil_status customer_salary_range  \\\n0            High School               Married                40-60K   \n1               Graduate               Unknown             below 40K   \n2            High School               Married               80-120K   \n3            High School               Married             below 40K   \n4            High School                Single               80-120K   \n...                  ...                   ...                   ...   \n10122        High School                Single                40-60K   \n10123         Uneducated                Single               Unknown   \n10124        High School                Single                60-80K   \n10125           Graduate                Single             below 40K   \n10126      Post-Graduate               Married                40-60K   \n\n       customer_relationship_length  customer_available_credit_limit  \\\n0                                31                           1593.0   \n1                                40                           6568.0   \n2                                30                          34516.0   \n3                                36                           2374.0   \n4                                29                          12978.0   \n...                             ...                              ...   \n10122                            36                           1677.0   \n10123                            33                         224541.0   \n10124                            36                           6606.0   \n10125                            28                           2077.0   \n10126                            21                           2256.0   \n\n      credit_card_classification  ...  period_inactive  contacts_in_last_year  \\\n0                           Blue  ...                2                      4   \n1                           Blue  ...                2                      2   \n2                         Silver  ...                1                      3   \n3                           Blue  ...                2                      1   \n4                           Blue  ...                3                      2   \n...                          ...  ...              ...                    ...   \n10122                       Blue  ...                3                      1   \n10123                       Blue  ...                3                      3   \n10124                       Blue  ...                3                      2   \n10125                       Blue  ...                3                      2   \n10126                       Blue  ...                1                      3   \n\n       credit_card_debt_balance  remaining_credit_limit  \\\n0                          1091                   502.0   \n1                             0                  6568.0   \n2                          2045                 32471.0   \n3                          1332                  1042.0   \n4                             0                 12978.0   \n...                         ...                     ...   \n10122                         0                  1677.0   \n10123                      1749                 23200.0   \n10124                      2517                  4089.0   \n10125                         0                  2077.0   \n10126                       775                  1481.0   \n\n       transaction_amount_ratio  total_transaction_amount  \\\n0                         0.870                    4136.0   \n1                         0.101                    1507.0   \n2                         0.590                    4081.0   \n3                         0.686                    4253.0   \n4                         0.628                   14134.0   \n...                         ...                       ...   \n10122                     0.700                    4035.0   \n10123                     0.626                    4092.0   \n10124                     0.825                    4493.0   \n10125                     0.590                    3647.0   \n10126                     0.879                    1749.0   \n\n       total_transaction_count  transaction_count_ratio  average_utilization  \\\n0                           67                    0.718                0.685   \n1                           33                    0.222                0.000   \n2                           54                    0.421                0.059   \n3                           81                    0.884                0.561   \n4                           85                    0.700                0.000   \n...                        ...                      ...                  ...   \n10122                       87                    0.891                0.000   \n10123                       77                    0.540                0.070   \n10124                       68                    0.659                0.381   \n10125                       69                    0.917                0.000   \n10126                       33                    0.435                0.344   \n\n       account_status  \n0                open  \n1              closed  \n2                open  \n3                open  \n4                open  \n...               ...  \n10122            open  \n10123            open  \n10124            open  \n10125            open  \n10126            open  \n\n[10127 rows x 21 columns]",
      "text/html": "<div>\n<style scoped>\n    .dataframe tbody tr th:only-of-type {\n        vertical-align: middle;\n    }\n\n    .dataframe tbody tr th {\n        vertical-align: top;\n    }\n\n    .dataframe thead th {\n        text-align: right;\n    }\n</style>\n<table border=\"1\" class=\"dataframe\">\n  <thead>\n    <tr style=\"text-align: right;\">\n      <th></th>\n      <th>customer_id</th>\n      <th>customer_age</th>\n      <th>customer_sex</th>\n      <th>customer_number_of_dependents</th>\n      <th>customer_education</th>\n      <th>customer_civil_status</th>\n      <th>customer_salary_range</th>\n      <th>customer_relationship_length</th>\n      <th>customer_available_credit_limit</th>\n      <th>credit_card_classification</th>\n      <th>...</th>\n      <th>period_inactive</th>\n      <th>contacts_in_last_year</th>\n      <th>credit_card_debt_balance</th>\n      <th>remaining_credit_limit</th>\n      <th>transaction_amount_ratio</th>\n      <th>total_transaction_amount</th>\n      <th>total_transaction_count</th>\n      <th>transaction_count_ratio</th>\n      <th>average_utilization</th>\n      <th>account_status</th>\n    </tr>\n  </thead>\n  <tbody>\n    <tr>\n      <th>0</th>\n      <td>755410</td>\n      <td>38.0</td>\n      <td>F</td>\n      <td>2</td>\n      <td>High School</td>\n      <td>Married</td>\n      <td>40-60K</td>\n      <td>31</td>\n      <td>1593.0</td>\n      <td>Blue</td>\n      <td>...</td>\n      <td>2</td>\n      <td>4</td>\n      <td>1091</td>\n      <td>502.0</td>\n      <td>0.870</td>\n      <td>4136.0</td>\n      <td>67</td>\n      <td>0.718</td>\n      <td>0.685</td>\n      <td>open</td>\n    </tr>\n    <tr>\n      <th>1</th>\n      <td>568093</td>\n      <td>46.0</td>\n      <td>F</td>\n      <td>2</td>\n      <td>Graduate</td>\n      <td>Unknown</td>\n      <td>below 40K</td>\n      <td>40</td>\n      <td>6568.0</td>\n      <td>Blue</td>\n      <td>...</td>\n      <td>2</td>\n      <td>2</td>\n      <td>0</td>\n      <td>6568.0</td>\n      <td>0.101</td>\n      <td>1507.0</td>\n      <td>33</td>\n      <td>0.222</td>\n      <td>0.000</td>\n      <td>closed</td>\n    </tr>\n    <tr>\n      <th>2</th>\n      <td>595389</td>\n      <td>43.0</td>\n      <td>M</td>\n      <td>1</td>\n      <td>High School</td>\n      <td>Married</td>\n      <td>80-120K</td>\n      <td>30</td>\n      <td>34516.0</td>\n      <td>Silver</td>\n      <td>...</td>\n      <td>1</td>\n      <td>3</td>\n      <td>2045</td>\n      <td>32471.0</td>\n      <td>0.590</td>\n      <td>4081.0</td>\n      <td>54</td>\n      <td>0.421</td>\n      <td>0.059</td>\n      <td>open</td>\n    </tr>\n    <tr>\n      <th>3</th>\n      <td>287252</td>\n      <td>46.0</td>\n      <td>F</td>\n      <td>4</td>\n      <td>High School</td>\n      <td>Married</td>\n      <td>below 40K</td>\n      <td>36</td>\n      <td>2374.0</td>\n      <td>Blue</td>\n      <td>...</td>\n      <td>2</td>\n      <td>1</td>\n      <td>1332</td>\n      <td>1042.0</td>\n      <td>0.686</td>\n      <td>4253.0</td>\n      <td>81</td>\n      <td>0.884</td>\n      <td>0.561</td>\n      <td>open</td>\n    </tr>\n    <tr>\n      <th>4</th>\n      <td>231901</td>\n      <td>40.0</td>\n      <td>M</td>\n      <td>4</td>\n      <td>High School</td>\n      <td>Single</td>\n      <td>80-120K</td>\n      <td>29</td>\n      <td>12978.0</td>\n      <td>Blue</td>\n      <td>...</td>\n      <td>3</td>\n      <td>2</td>\n      <td>0</td>\n      <td>12978.0</td>\n      <td>0.628</td>\n      <td>14134.0</td>\n      <td>85</td>\n      <td>0.700</td>\n      <td>0.000</td>\n      <td>open</td>\n    </tr>\n    <tr>\n      <th>...</th>\n      <td>...</td>\n      <td>...</td>\n      <td>...</td>\n      <td>...</td>\n      <td>...</td>\n      <td>...</td>\n      <td>...</td>\n      <td>...</td>\n      <td>...</td>\n      <td>...</td>\n      <td>...</td>\n      <td>...</td>\n      <td>...</td>\n      <td>...</td>\n      <td>...</td>\n      <td>...</td>\n      <td>...</td>\n      <td>...</td>\n      <td>...</td>\n      <td>...</td>\n      <td>...</td>\n    </tr>\n    <tr>\n      <th>10122</th>\n      <td>435491</td>\n      <td>NaN</td>\n      <td>F</td>\n      <td>2</td>\n      <td>High School</td>\n      <td>Single</td>\n      <td>40-60K</td>\n      <td>36</td>\n      <td>1677.0</td>\n      <td>Blue</td>\n      <td>...</td>\n      <td>3</td>\n      <td>1</td>\n      <td>0</td>\n      <td>1677.0</td>\n      <td>0.700</td>\n      <td>4035.0</td>\n      <td>87</td>\n      <td>0.891</td>\n      <td>0.000</td>\n      <td>open</td>\n    </tr>\n    <tr>\n      <th>10123</th>\n      <td>136052</td>\n      <td>46.0</td>\n      <td>F</td>\n      <td>4</td>\n      <td>Uneducated</td>\n      <td>Single</td>\n      <td>Unknown</td>\n      <td>33</td>\n      <td>224541.0</td>\n      <td>Blue</td>\n      <td>...</td>\n      <td>3</td>\n      <td>3</td>\n      <td>1749</td>\n      <td>23200.0</td>\n      <td>0.626</td>\n      <td>4092.0</td>\n      <td>77</td>\n      <td>0.540</td>\n      <td>0.070</td>\n      <td>open</td>\n    </tr>\n    <tr>\n      <th>10124</th>\n      <td>336583</td>\n      <td>44.0</td>\n      <td>M</td>\n      <td>0</td>\n      <td>High School</td>\n      <td>Single</td>\n      <td>60-80K</td>\n      <td>36</td>\n      <td>6606.0</td>\n      <td>Blue</td>\n      <td>...</td>\n      <td>3</td>\n      <td>2</td>\n      <td>2517</td>\n      <td>4089.0</td>\n      <td>0.825</td>\n      <td>4493.0</td>\n      <td>68</td>\n      <td>0.659</td>\n      <td>0.381</td>\n      <td>open</td>\n    </tr>\n    <tr>\n      <th>10125</th>\n      <td>817129</td>\n      <td>39.0</td>\n      <td>F</td>\n      <td>5</td>\n      <td>Graduate</td>\n      <td>Single</td>\n      <td>below 40K</td>\n      <td>28</td>\n      <td>2077.0</td>\n      <td>Blue</td>\n      <td>...</td>\n      <td>3</td>\n      <td>2</td>\n      <td>0</td>\n      <td>2077.0</td>\n      <td>0.590</td>\n      <td>3647.0</td>\n      <td>69</td>\n      <td>0.917</td>\n      <td>0.000</td>\n      <td>open</td>\n    </tr>\n    <tr>\n      <th>10126</th>\n      <td>404120</td>\n      <td>35.0</td>\n      <td>M</td>\n      <td>2</td>\n      <td>Post-Graduate</td>\n      <td>Married</td>\n      <td>40-60K</td>\n      <td>21</td>\n      <td>2256.0</td>\n      <td>Blue</td>\n      <td>...</td>\n      <td>1</td>\n      <td>3</td>\n      <td>775</td>\n      <td>1481.0</td>\n      <td>0.879</td>\n      <td>1749.0</td>\n      <td>33</td>\n      <td>0.435</td>\n      <td>0.344</td>\n      <td>open</td>\n    </tr>\n  </tbody>\n</table>\n<p>10127 rows × 21 columns</p>\n</div>"
     },
     "execution_count": 4,
     "metadata": {},
     "output_type": "execute_result"
    }
   ],
   "source": [
    "df"
   ],
   "metadata": {
    "collapsed": false,
    "pycharm": {
     "name": "#%%\n"
    }
   }
  },
  {
   "cell_type": "code",
   "execution_count": 12,
   "outputs": [],
   "source": [
    "profile = ProfileReport(df, title=\"Profiling Report\")"
   ],
   "metadata": {
    "collapsed": false,
    "pycharm": {
     "name": "#%%\n"
    }
   }
  },
  {
   "cell_type": "code",
   "execution_count": 14,
   "outputs": [
    {
     "data": {
      "text/plain": "Render HTML:   0%|          | 0/1 [00:00<?, ?it/s]",
      "application/vnd.jupyter.widget-view+json": {
       "version_major": 2,
       "version_minor": 0,
       "model_id": "37e8894a176b4491ae05dc43ccc31c5b"
      }
     },
     "metadata": {},
     "output_type": "display_data"
    },
    {
     "data": {
      "text/plain": "Export report to file:   0%|          | 0/1 [00:00<?, ?it/s]",
      "application/vnd.jupyter.widget-view+json": {
       "version_major": 2,
       "version_minor": 0,
       "model_id": "9e182aa937374b41b28f3907c9f72645"
      }
     },
     "metadata": {},
     "output_type": "display_data"
    }
   ],
   "source": [
    "profile.to_file(\"clasification_profile_report.html\")"
   ],
   "metadata": {
    "collapsed": false,
    "pycharm": {
     "name": "#%%\n"
    }
   }
  },
  {
   "cell_type": "markdown",
   "source": [
    "EDA Conclusions/Tasks:\n",
    "Columns:\n",
    "- Customer ID - to be dropped\n",
    "- Customer Age - needs to be imputed (maybe check relationship length for hints)\n",
    "- Customer Sex - encode\n",
    "- Customer Education - encode\n",
    "- Customer Civil Status - encode\n",
    "- Customer Salary Range - encode, impute\n",
    "- Customer Relationship Length - a lot of 36 year long relationships - to be further inspected\n",
    "- Customer Available Credit Limit - use log\n",
    "- Credit Card Classification - encode\n",
    "- Total Products - use log? create bins for 0-5, 5-10, 10 or more products\n",
    "- Period Inactive - create bins for 0-3 and 3 or more\n",
    "- Contacts in last year - no additional ideas atm\n",
    "- Credit Card Debt Balance - create bin for cc bal = 0, standardize\n",
    "- Remaining Credit Card Limit - use log\n",
    "- Transaction Amount Ratio - additional bins for 0-0.5, 0.5-1, 1-2, 2 or more?\n",
    "- Total Transaction Amount - create bin for transaction amt = 0, use log\n",
    "- Total Transaction Count - create bins for 0-25, 25-50, 50-100, 100 or more\n",
    "- Transaction Count Ratio - additional bins for 0-0.5, 0.5-1, 1-2, 2 or more?\n",
    "- Average Utilization - additional bins for 0-0.2, 0.2-0.6, 0.6 or more.\n",
    "- Account status - encode\n",
    "\n",
    "\n",
    "Imputting:\n",
    "- check relation between customer age and customer relationship length\n",
    "- check relation between salary range and sex (and maybe cc limit)"
   ],
   "metadata": {
    "collapsed": false,
    "pycharm": {
     "name": "#%% md\n"
    }
   }
  },
  {
   "cell_type": "markdown",
   "source": [
    "## Encoding"
   ],
   "metadata": {
    "collapsed": false,
    "pycharm": {
     "name": "#%% md\n"
    }
   }
  },
  {
   "cell_type": "code",
   "execution_count": 31,
   "outputs": [],
   "source": [
    "cb_encoder = CatBoostEncoder()\n",
    "cols_to_be_encoded = ['customer_age', 'customer_sex', 'customer_education', 'customer_civil_status', 'customer_salary_range', 'credit_card_classification']\n",
    "target = df.account_status.map({'open': 0, 'closed': 1})\n",
    "features = df.drop(columns=['account_status'])"
   ],
   "metadata": {
    "collapsed": false,
    "pycharm": {
     "name": "#%%\n"
    }
   }
  },
  {
   "cell_type": "code",
   "execution_count": 32,
   "outputs": [
    {
     "data": {
      "text/plain": "CatBoostEncoder(cols=['customer_sex', 'customer_education',\n                      'customer_civil_status', 'customer_salary_range',\n                      'credit_card_classification'])"
     },
     "execution_count": 32,
     "metadata": {},
     "output_type": "execute_result"
    }
   ],
   "source": [
    "cb_encoder.fit(X=features, y=target, cols=cols_to_be_encoded, handle_missing='return_nan')"
   ],
   "metadata": {
    "collapsed": false,
    "pycharm": {
     "name": "#%%\n"
    }
   }
  },
  {
   "cell_type": "code",
   "execution_count": 35,
   "outputs": [
    {
     "data": {
      "text/plain": "customer_id                          int64\ncustomer_age                       float64\ncustomer_sex                       float64\ncustomer_number_of_dependents        int64\ncustomer_education                 float64\ncustomer_civil_status              float64\ncustomer_salary_range              float64\ncustomer_relationship_length         int64\ncustomer_available_credit_limit    float64\ncredit_card_classification         float64\ntotal_products                       int64\nperiod_inactive                      int64\ncontacts_in_last_year                int64\ncredit_card_debt_balance             int64\nremaining_credit_limit             float64\ntransaction_amount_ratio           float64\ntotal_transaction_amount           float64\ntotal_transaction_count              int64\ntransaction_count_ratio            float64\naverage_utilization                float64\ndtype: object"
     },
     "execution_count": 35,
     "metadata": {},
     "output_type": "execute_result"
    }
   ],
   "source": [
    "cb_encoder.transform(df.drop(columns=['account_status']))"
   ],
   "metadata": {
    "collapsed": false,
    "pycharm": {
     "name": "#%%\n"
    }
   }
  },
  {
   "cell_type": "markdown",
   "source": [
    "## Transformations"
   ],
   "metadata": {
    "collapsed": false,
    "pycharm": {
     "name": "#%% md\n"
    }
   }
  },
  {
   "cell_type": "code",
   "execution_count": 39,
   "outputs": [],
   "source": [
    "df['customer_available_credit_limit_below_1450'] = np.where(df['customer_available_credit_limit'] < 1450, 1, 0)\n",
    "df['customer_available_credit_limit'] = np.log(df['customer_available_credit_limit'])"
   ],
   "metadata": {
    "collapsed": false,
    "pycharm": {
     "name": "#%%\n"
    }
   }
  },
  {
   "cell_type": "code",
   "execution_count": 40,
   "outputs": [],
   "source": [
    "df['total_products_0_5'] = np.where(df['total_products'] <= 5, 1, 0)\n",
    "df['total_products_6_10'] = np.where((df['total_products'] > 5) & (df['total_products'] <= 10), 1 ,0)\n",
    "df['total_products_more_than_10'] = np.where(df['total_products'] > 10, 1, 0)"
   ],
   "metadata": {
    "collapsed": false,
    "pycharm": {
     "name": "#%%\n"
    }
   }
  },
  {
   "cell_type": "code",
   "execution_count": 41,
   "outputs": [],
   "source": [
    "df['period_inactive_0_3'] = np.where(df['period_inactive'] <= 3, 1, 0)"
   ],
   "metadata": {
    "collapsed": false,
    "pycharm": {
     "name": "#%%\n"
    }
   }
  },
  {
   "cell_type": "code",
   "execution_count": 43,
   "outputs": [],
   "source": [
    "df['credit_card_debt_balance_0'] = np.where(df['credit_card_debt_balance'] == 0, 1, 0)\n",
    "# do scaling inside CV"
   ],
   "metadata": {
    "collapsed": false,
    "pycharm": {
     "name": "#%%\n"
    }
   }
  },
  {
   "cell_type": "code",
   "execution_count": 44,
   "outputs": [],
   "source": [
    "df['remaining_credit_limit'] = np.log(df['remaining_credit_limit'])"
   ],
   "metadata": {
    "collapsed": false,
    "pycharm": {
     "name": "#%%\n"
    }
   }
  },
  {
   "cell_type": "code",
   "execution_count": 45,
   "outputs": [],
   "source": [
    "df['transaction_amount_ratio_0_05'] = np.where(df['transaction_amount_ratio'] <= 0.5, 1 ,0)\n",
    "df['transaction_amount_ratio_05_1'] = np.where((df['transaction_amount_ratio'] > 0.5) & (df['transaction_amount_ratio'] <= 1), 1, 0)\n",
    "df['transaction_amount_ratio_1_2'] = np.where((df['transaction_amount_ratio'] > 1) & (df['transaction_amount_ratio'] <= 2), 1, 0)\n",
    "df['transaction_amount_ratio_more_than_2'] = np.where(df['transaction_amount_ratio'] > 2, 1, 0)"
   ],
   "metadata": {
    "collapsed": false,
    "pycharm": {
     "name": "#%%\n"
    }
   }
  },
  {
   "cell_type": "code",
   "execution_count": 48,
   "outputs": [],
   "source": [
    "df['total_transaction_amount'] = np.log(df['total_transaction_amount'])"
   ],
   "metadata": {
    "collapsed": false,
    "pycharm": {
     "name": "#%%\n"
    }
   }
  },
  {
   "cell_type": "code",
   "execution_count": 49,
   "outputs": [],
   "source": [
    "df['total_transaction_count_0_25'] = np.where(df['total_transaction_count'] <= 25, 1, 0)\n",
    "df['total_transaction_count_26_50'] = np.where((df['total_transaction_count'] > 25) & (df['total_transaction_count'] <= 50), 1, 0)\n",
    "df['total_transaction_count_51_100'] = np.where((df['total_transaction_count'] > 50) & (df['total_transaction_count'] <= 100), 1, 0)\n",
    "df['total_transaction_count_more_than_100'] = np.where(df['total_transaction_count'] > 100, 1, 0)"
   ],
   "metadata": {
    "collapsed": false,
    "pycharm": {
     "name": "#%%\n"
    }
   }
  },
  {
   "cell_type": "code",
   "execution_count": 50,
   "outputs": [],
   "source": [
    "df['transaction_count_ratio_0_05'] = np.where(df['transaction_count_ratio'] <= 0.5, 1 ,0)\n",
    "df['transaction_count_ratio_05_1'] = np.where((df['transaction_count_ratio'] > 0.5) & (df['transaction_count_ratio'] <= 1), 1, 0)\n",
    "df['transaction_count_ratio_1_2'] = np.where((df['transaction_count_ratio'] > 1) & (df['transaction_count_ratio'] <= 2), 1, 0)\n",
    "df['transaction_count_ratio_more_than_2'] = np.where(df['transaction_count_ratio'] > 2, 1, 0)"
   ],
   "metadata": {
    "collapsed": false,
    "pycharm": {
     "name": "#%%\n"
    }
   }
  },
  {
   "cell_type": "code",
   "execution_count": 51,
   "outputs": [],
   "source": [
    "df['average_utilization_0_02'] = np.where(df['average_utilization'] <= 0.2, 1, 0)\n",
    "df['average_utilization_02_06'] = np.where((df['average_utilization'] > 0.2) & (df['average_utilization'] <= 0.6), 1, 0)\n",
    "df['average_utilization_more_than_06'] = np.where(df['average_utilization'] > 0.6, 1, 0)"
   ],
   "metadata": {
    "collapsed": false,
    "pycharm": {
     "name": "#%%\n"
    }
   }
  },
  {
   "cell_type": "code",
   "execution_count": 84,
   "outputs": [
    {
     "data": {
      "text/plain": "<AxesSubplot:xlabel='total_transaction_amount', ylabel='Count'>"
     },
     "execution_count": 84,
     "metadata": {},
     "output_type": "execute_result"
    }
   ],
   "source": [
    "# here, where utilization is almost 0\n",
    "sns.histplot(df['total_transaction_amount'])\n",
    "sns.histplot(df[df['average_utilization'] == 0]['total_transaction_amount'])"
   ],
   "metadata": {
    "collapsed": false,
    "pycharm": {
     "name": "#%%\n"
    }
   }
  },
  {
   "cell_type": "code",
   "execution_count": null,
   "outputs": [],
   "source": [],
   "metadata": {
    "collapsed": false,
    "pycharm": {
     "name": "#%%\n"
    }
   }
  }
 ],
 "metadata": {
  "kernelspec": {
   "display_name": "Python 3",
   "language": "python",
   "name": "python3"
  },
  "language_info": {
   "codemirror_mode": {
    "name": "ipython",
    "version": 2
   },
   "file_extension": ".py",
   "mimetype": "text/x-python",
   "name": "python",
   "nbconvert_exporter": "python",
   "pygments_lexer": "ipython2",
   "version": "2.7.6"
  }
 },
 "nbformat": 4,
 "nbformat_minor": 0
}